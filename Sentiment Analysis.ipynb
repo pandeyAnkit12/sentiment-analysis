{
 "cells": [
  {
   "cell_type": "markdown",
   "id": "f61d6628",
   "metadata": {},
   "source": [
    "# Import Dependencies"
   ]
  },
  {
   "cell_type": "code",
   "execution_count": 1,
   "id": "bb92a900",
   "metadata": {},
   "outputs": [],
   "source": [
    "import pandas as pd\n",
    "import numpy as np"
   ]
  },
  {
   "cell_type": "code",
   "execution_count": 2,
   "id": "067665a1",
   "metadata": {},
   "outputs": [],
   "source": [
    "dataset = pd.read_csv(\"Twitter data.csv\")"
   ]
  },
  {
   "cell_type": "code",
   "execution_count": 3,
   "id": "c4dd666a",
   "metadata": {},
   "outputs": [
    {
     "data": {
      "text/html": [
       "<div>\n",
       "<style scoped>\n",
       "    .dataframe tbody tr th:only-of-type {\n",
       "        vertical-align: middle;\n",
       "    }\n",
       "\n",
       "    .dataframe tbody tr th {\n",
       "        vertical-align: top;\n",
       "    }\n",
       "\n",
       "    .dataframe thead th {\n",
       "        text-align: right;\n",
       "    }\n",
       "</style>\n",
       "<table border=\"1\" class=\"dataframe\">\n",
       "  <thead>\n",
       "    <tr style=\"text-align: right;\">\n",
       "      <th></th>\n",
       "      <th>2401</th>\n",
       "      <th>Borderlands</th>\n",
       "      <th>Positive</th>\n",
       "      <th>im getting on borderlands and i will murder you all ,</th>\n",
       "    </tr>\n",
       "  </thead>\n",
       "  <tbody>\n",
       "    <tr>\n",
       "      <th>0</th>\n",
       "      <td>2401</td>\n",
       "      <td>Borderlands</td>\n",
       "      <td>Positive</td>\n",
       "      <td>I am coming to the borders and I will kill you...</td>\n",
       "    </tr>\n",
       "    <tr>\n",
       "      <th>1</th>\n",
       "      <td>2401</td>\n",
       "      <td>Borderlands</td>\n",
       "      <td>Positive</td>\n",
       "      <td>im getting on borderlands and i will kill you ...</td>\n",
       "    </tr>\n",
       "    <tr>\n",
       "      <th>2</th>\n",
       "      <td>2401</td>\n",
       "      <td>Borderlands</td>\n",
       "      <td>Positive</td>\n",
       "      <td>im coming on borderlands and i will murder you...</td>\n",
       "    </tr>\n",
       "    <tr>\n",
       "      <th>3</th>\n",
       "      <td>2401</td>\n",
       "      <td>Borderlands</td>\n",
       "      <td>Positive</td>\n",
       "      <td>im getting on borderlands 2 and i will murder ...</td>\n",
       "    </tr>\n",
       "    <tr>\n",
       "      <th>4</th>\n",
       "      <td>2401</td>\n",
       "      <td>Borderlands</td>\n",
       "      <td>Positive</td>\n",
       "      <td>im getting into borderlands and i can murder y...</td>\n",
       "    </tr>\n",
       "  </tbody>\n",
       "</table>\n",
       "</div>"
      ],
      "text/plain": [
       "   2401  Borderlands  Positive  \\\n",
       "0  2401  Borderlands  Positive   \n",
       "1  2401  Borderlands  Positive   \n",
       "2  2401  Borderlands  Positive   \n",
       "3  2401  Borderlands  Positive   \n",
       "4  2401  Borderlands  Positive   \n",
       "\n",
       "  im getting on borderlands and i will murder you all ,  \n",
       "0  I am coming to the borders and I will kill you...     \n",
       "1  im getting on borderlands and i will kill you ...     \n",
       "2  im coming on borderlands and i will murder you...     \n",
       "3  im getting on borderlands 2 and i will murder ...     \n",
       "4  im getting into borderlands and i can murder y...     "
      ]
     },
     "execution_count": 3,
     "metadata": {},
     "output_type": "execute_result"
    }
   ],
   "source": [
    "dataset.head()"
   ]
  },
  {
   "cell_type": "code",
   "execution_count": 4,
   "id": "34f06407",
   "metadata": {},
   "outputs": [
    {
     "name": "stdout",
     "output_type": "stream",
     "text": [
      "<class 'pandas.core.frame.DataFrame'>\n",
      "RangeIndex: 74681 entries, 0 to 74680\n",
      "Data columns (total 4 columns):\n",
      " #   Column                                                 Non-Null Count  Dtype \n",
      "---  ------                                                 --------------  ----- \n",
      " 0   2401                                                   74681 non-null  int64 \n",
      " 1   Borderlands                                            74681 non-null  object\n",
      " 2   Positive                                               74681 non-null  object\n",
      " 3   im getting on borderlands and i will murder you all ,  73995 non-null  object\n",
      "dtypes: int64(1), object(3)\n",
      "memory usage: 2.3+ MB\n"
     ]
    }
   ],
   "source": [
    "dataset.info()"
   ]
  },
  {
   "cell_type": "code",
   "execution_count": 5,
   "id": "f78e4d77",
   "metadata": {},
   "outputs": [
    {
     "data": {
      "text/plain": [
       "(74681, 4)"
      ]
     },
     "execution_count": 5,
     "metadata": {},
     "output_type": "execute_result"
    }
   ],
   "source": [
    "dataset.shape"
   ]
  },
  {
   "cell_type": "code",
   "execution_count": 6,
   "id": "05fb4a11",
   "metadata": {},
   "outputs": [
    {
     "data": {
      "text/plain": [
       "Negative      22542\n",
       "Positive      20831\n",
       "Neutral       18318\n",
       "Irrelevant    12990\n",
       "Name: Positive, dtype: int64"
      ]
     },
     "execution_count": 6,
     "metadata": {},
     "output_type": "execute_result"
    }
   ],
   "source": [
    "dataset[\"Positive\"].value_counts()"
   ]
  },
  {
   "cell_type": "code",
   "execution_count": 7,
   "id": "2b57cf2e",
   "metadata": {
    "scrolled": true
   },
   "outputs": [
    {
     "data": {
      "text/plain": [
       "2401                                                       0\n",
       "Borderlands                                                0\n",
       "Positive                                                   0\n",
       "im getting on borderlands and i will murder you all ,    686\n",
       "dtype: int64"
      ]
     },
     "execution_count": 7,
     "metadata": {},
     "output_type": "execute_result"
    }
   ],
   "source": [
    "dataset.isnull().sum()"
   ]
  },
  {
   "cell_type": "code",
   "execution_count": 8,
   "id": "6cf711fa",
   "metadata": {},
   "outputs": [
    {
     "data": {
      "text/plain": [
       "Index(['2401', 'Borderlands', 'Positive',\n",
       "       'im getting on borderlands and i will murder you all ,'],\n",
       "      dtype='object')"
      ]
     },
     "execution_count": 8,
     "metadata": {},
     "output_type": "execute_result"
    }
   ],
   "source": [
    "dataset.columns"
   ]
  },
  {
   "cell_type": "code",
   "execution_count": 9,
   "id": "189ccc24",
   "metadata": {},
   "outputs": [],
   "source": [
    "df = pd.DataFrame(dataset)\n",
    "data = df.columns.tolist()\n",
    "data[data.index('Positive')] = 'Review'\n",
    "data[data.index('im getting on borderlands and i will murder you all ,')] = 'Text'"
   ]
  },
  {
   "cell_type": "code",
   "execution_count": 10,
   "id": "0d5cfe14",
   "metadata": {},
   "outputs": [],
   "source": [
    "df.columns = data"
   ]
  },
  {
   "cell_type": "code",
   "execution_count": 11,
   "id": "55a2bdca",
   "metadata": {},
   "outputs": [
    {
     "data": {
      "text/plain": [
       "Index(['2401', 'Borderlands', 'Review', 'Text'], dtype='object')"
      ]
     },
     "execution_count": 11,
     "metadata": {},
     "output_type": "execute_result"
    }
   ],
   "source": [
    "df.columns"
   ]
  },
  {
   "cell_type": "code",
   "execution_count": 12,
   "id": "f02a8816",
   "metadata": {},
   "outputs": [],
   "source": [
    "dataset = df.drop(columns = [\"2401\",\"Borderlands\"])"
   ]
  },
  {
   "cell_type": "code",
   "execution_count": 13,
   "id": "9610401c",
   "metadata": {},
   "outputs": [
    {
     "data": {
      "text/html": [
       "<div>\n",
       "<style scoped>\n",
       "    .dataframe tbody tr th:only-of-type {\n",
       "        vertical-align: middle;\n",
       "    }\n",
       "\n",
       "    .dataframe tbody tr th {\n",
       "        vertical-align: top;\n",
       "    }\n",
       "\n",
       "    .dataframe thead th {\n",
       "        text-align: right;\n",
       "    }\n",
       "</style>\n",
       "<table border=\"1\" class=\"dataframe\">\n",
       "  <thead>\n",
       "    <tr style=\"text-align: right;\">\n",
       "      <th></th>\n",
       "      <th>Review</th>\n",
       "      <th>Text</th>\n",
       "    </tr>\n",
       "  </thead>\n",
       "  <tbody>\n",
       "    <tr>\n",
       "      <th>0</th>\n",
       "      <td>Positive</td>\n",
       "      <td>I am coming to the borders and I will kill you...</td>\n",
       "    </tr>\n",
       "    <tr>\n",
       "      <th>1</th>\n",
       "      <td>Positive</td>\n",
       "      <td>im getting on borderlands and i will kill you ...</td>\n",
       "    </tr>\n",
       "    <tr>\n",
       "      <th>2</th>\n",
       "      <td>Positive</td>\n",
       "      <td>im coming on borderlands and i will murder you...</td>\n",
       "    </tr>\n",
       "    <tr>\n",
       "      <th>3</th>\n",
       "      <td>Positive</td>\n",
       "      <td>im getting on borderlands 2 and i will murder ...</td>\n",
       "    </tr>\n",
       "    <tr>\n",
       "      <th>4</th>\n",
       "      <td>Positive</td>\n",
       "      <td>im getting into borderlands and i can murder y...</td>\n",
       "    </tr>\n",
       "  </tbody>\n",
       "</table>\n",
       "</div>"
      ],
      "text/plain": [
       "     Review                                               Text\n",
       "0  Positive  I am coming to the borders and I will kill you...\n",
       "1  Positive  im getting on borderlands and i will kill you ...\n",
       "2  Positive  im coming on borderlands and i will murder you...\n",
       "3  Positive  im getting on borderlands 2 and i will murder ...\n",
       "4  Positive  im getting into borderlands and i can murder y..."
      ]
     },
     "execution_count": 13,
     "metadata": {},
     "output_type": "execute_result"
    }
   ],
   "source": [
    "dataset.head()"
   ]
  },
  {
   "cell_type": "code",
   "execution_count": 14,
   "id": "769cc7a5",
   "metadata": {},
   "outputs": [
    {
     "data": {
      "text/plain": [
       "(74681, 2)"
      ]
     },
     "execution_count": 14,
     "metadata": {},
     "output_type": "execute_result"
    }
   ],
   "source": [
    "dataset.shape"
   ]
  },
  {
   "cell_type": "code",
   "execution_count": 15,
   "id": "c9301f07",
   "metadata": {},
   "outputs": [
    {
     "data": {
      "text/plain": [
       "Review      0\n",
       "Text      686\n",
       "dtype: int64"
      ]
     },
     "execution_count": 15,
     "metadata": {},
     "output_type": "execute_result"
    }
   ],
   "source": [
    "dataset.isnull().sum()"
   ]
  },
  {
   "cell_type": "code",
   "execution_count": 16,
   "id": "2e951eb4",
   "metadata": {},
   "outputs": [
    {
     "data": {
      "text/plain": [
       "0        I am coming to the borders and I will kill you...\n",
       "1        im getting on borderlands and i will kill you ...\n",
       "2        im coming on borderlands and i will murder you...\n",
       "3        im getting on borderlands 2 and i will murder ...\n",
       "4        im getting into borderlands and i can murder y...\n",
       "                               ...                        \n",
       "74676    Just realized that the Windows partition of my...\n",
       "74677    Just realized that my Mac window partition is ...\n",
       "74678    Just realized the windows partition of my Mac ...\n",
       "74679    Just realized between the windows partition of...\n",
       "74680    Just like the windows partition of my Mac is l...\n",
       "Name: Text, Length: 73995, dtype: object"
      ]
     },
     "execution_count": 16,
     "metadata": {},
     "output_type": "execute_result"
    }
   ],
   "source": [
    "dataset[\"Text\"].dropna()"
   ]
  },
  {
   "cell_type": "code",
   "execution_count": 17,
   "id": "f8be9089",
   "metadata": {},
   "outputs": [
    {
     "data": {
      "text/plain": [
       "(74681, 2)"
      ]
     },
     "execution_count": 17,
     "metadata": {},
     "output_type": "execute_result"
    }
   ],
   "source": [
    "dataset.shape"
   ]
  },
  {
   "cell_type": "code",
   "execution_count": 18,
   "id": "ae386287",
   "metadata": {},
   "outputs": [],
   "source": [
    "from sklearn.preprocessing import LabelEncoder"
   ]
  },
  {
   "cell_type": "code",
   "execution_count": 19,
   "id": "a884e2df",
   "metadata": {},
   "outputs": [],
   "source": [
    "dataset[\"Review\"] = LabelEncoder().fit_transform(dataset[\"Review\"])"
   ]
  },
  {
   "cell_type": "code",
   "execution_count": 20,
   "id": "a52fe04f",
   "metadata": {},
   "outputs": [
    {
     "data": {
      "text/html": [
       "<div>\n",
       "<style scoped>\n",
       "    .dataframe tbody tr th:only-of-type {\n",
       "        vertical-align: middle;\n",
       "    }\n",
       "\n",
       "    .dataframe tbody tr th {\n",
       "        vertical-align: top;\n",
       "    }\n",
       "\n",
       "    .dataframe thead th {\n",
       "        text-align: right;\n",
       "    }\n",
       "</style>\n",
       "<table border=\"1\" class=\"dataframe\">\n",
       "  <thead>\n",
       "    <tr style=\"text-align: right;\">\n",
       "      <th></th>\n",
       "      <th>Review</th>\n",
       "      <th>Text</th>\n",
       "    </tr>\n",
       "  </thead>\n",
       "  <tbody>\n",
       "    <tr>\n",
       "      <th>0</th>\n",
       "      <td>3</td>\n",
       "      <td>I am coming to the borders and I will kill you...</td>\n",
       "    </tr>\n",
       "    <tr>\n",
       "      <th>1</th>\n",
       "      <td>3</td>\n",
       "      <td>im getting on borderlands and i will kill you ...</td>\n",
       "    </tr>\n",
       "    <tr>\n",
       "      <th>2</th>\n",
       "      <td>3</td>\n",
       "      <td>im coming on borderlands and i will murder you...</td>\n",
       "    </tr>\n",
       "    <tr>\n",
       "      <th>3</th>\n",
       "      <td>3</td>\n",
       "      <td>im getting on borderlands 2 and i will murder ...</td>\n",
       "    </tr>\n",
       "    <tr>\n",
       "      <th>4</th>\n",
       "      <td>3</td>\n",
       "      <td>im getting into borderlands and i can murder y...</td>\n",
       "    </tr>\n",
       "  </tbody>\n",
       "</table>\n",
       "</div>"
      ],
      "text/plain": [
       "   Review                                               Text\n",
       "0       3  I am coming to the borders and I will kill you...\n",
       "1       3  im getting on borderlands and i will kill you ...\n",
       "2       3  im coming on borderlands and i will murder you...\n",
       "3       3  im getting on borderlands 2 and i will murder ...\n",
       "4       3  im getting into borderlands and i can murder y..."
      ]
     },
     "execution_count": 20,
     "metadata": {},
     "output_type": "execute_result"
    }
   ],
   "source": [
    "dataset.head()"
   ]
  },
  {
   "cell_type": "code",
   "execution_count": 21,
   "id": "07c5eed6",
   "metadata": {},
   "outputs": [
    {
     "data": {
      "text/plain": [
       "1    22542\n",
       "3    20831\n",
       "2    18318\n",
       "0    12990\n",
       "Name: Review, dtype: int64"
      ]
     },
     "execution_count": 21,
     "metadata": {},
     "output_type": "execute_result"
    }
   ],
   "source": [
    "dataset[\"Review\"].value_counts()"
   ]
  },
  {
   "cell_type": "code",
   "execution_count": 22,
   "id": "4e834341",
   "metadata": {},
   "outputs": [
    {
     "data": {
      "text/plain": [
       "Review      0\n",
       "Text      686\n",
       "dtype: int64"
      ]
     },
     "execution_count": 22,
     "metadata": {},
     "output_type": "execute_result"
    }
   ],
   "source": [
    "dataset.isna().sum()"
   ]
  },
  {
   "cell_type": "code",
   "execution_count": 23,
   "id": "b8df5631",
   "metadata": {},
   "outputs": [
    {
     "name": "stderr",
     "output_type": "stream",
     "text": [
      "[nltk_data] Downloading package stopwords to\n",
      "[nltk_data]     C:\\Users\\hp\\AppData\\Roaming\\nltk_data...\n",
      "[nltk_data]   Package stopwords is already up-to-date!\n"
     ]
    },
    {
     "data": {
      "text/plain": [
       "True"
      ]
     },
     "execution_count": 23,
     "metadata": {},
     "output_type": "execute_result"
    }
   ],
   "source": [
    "import re\n",
    "import nltk\n",
    "nltk.download(\"stopwords\")"
   ]
  },
  {
   "cell_type": "code",
   "execution_count": 24,
   "id": "85e431d2",
   "metadata": {},
   "outputs": [],
   "source": [
    "from nltk.corpus import stopwords\n",
    "from nltk.stem.porter import PorterStemmer\n",
    "ps = PorterStemmer()\n",
    "\n",
    "all_stopwords = stopwords.words('english')\n",
    "all_stopwords.remove('not')"
   ]
  },
  {
   "cell_type": "code",
   "execution_count": 25,
   "id": "031ffaee",
   "metadata": {},
   "outputs": [],
   "source": [
    "corpus = []\n",
    "for i in range(0,74681):\n",
    "    review = re.sub('[^a-zA-Z]',' ',str(dataset['Text'][i]))\n",
    "    review = review.lower()\n",
    "    review = review.split()\n",
    "    review = [ps.stem(word) for word in review if not word in set(all_stopwords)]\n",
    "    review = ' '.join(review)\n",
    "    corpus.append(review)"
   ]
  },
  {
   "cell_type": "code",
   "execution_count": 26,
   "id": "d9abd6d6",
   "metadata": {},
   "outputs": [
    {
     "data": {
      "text/plain": [
       "['come border kill',\n",
       " 'im get borderland kill',\n",
       " 'im come borderland murder',\n",
       " 'im get borderland murder',\n",
       " 'im get borderland murder',\n",
       " 'spent hour make someth fun know huge borderland fan maya one favorit charact decid make wallpap pc origin imag versu creation made enjoy pic twitter com mlsi wf jg',\n",
       " 'spent coupl hour someth fun know huge borderland fan maya one favorit charact decid make wallpap pc origin pictur compar creation made fun pic twitter com mlsi wf jg',\n",
       " 'spent hour someth fun know huge borderland fan maya one favorit charact',\n",
       " 'spent hour make someth fun know huge rhandlerr fan maya one favorit charact decid make wallpap pc origin imag versu creation made enjoy pic twitter com mlsi wf jg',\n",
       " 'spent hour make someth fun know huge rhandlerr fan maya one favorit charact decid make wallpap pc origin imag versu creation made enjoy pic twitter com mlsi wf jg',\n",
       " '',\n",
       " 'rock hard la varlop rare power handsom jackpot borderland xbox dlvr rmtrgf',\n",
       " 'rock hard la varlop rare power handsom jackpot borderland xbox dlvr rmtrgf',\n",
       " 'rock hard la varlop rare power handsom jackpot borderland xbox dfr rmtrgf',\n",
       " 'rock hard la vita rare power handsom jackpot borderland xbox dlvr rmtrgf',\n",
       " 'live rock hard music la la varlop rare power live handsom jackpot borderland sega xbox dlvr e rmtrgf',\n",
       " 'hard like rare london de handsom borderland xbox dlvr rmtrgf',\n",
       " 'first borderland session long time actual realli satisfi combat experi got realli good kill',\n",
       " 'first borderland session long time actual realli satisfi fight experi got realli good kill',\n",
       " 'first borderland session long time actual realli satisfi combat experi got realli good kill',\n",
       " 'first borderland session long time actual enjoy realli satisfi combat experi got rather good kill',\n",
       " 'first real borderland session nice long wait time actual realli satisfi combat experi got realli good kill',\n",
       " 'first borderland session hot row actual realli bad combat experi realli good kill',\n",
       " 'biggest dissappoin life came year ago fuck borderland',\n",
       " 'biggest disappoint life came year ago',\n",
       " 'biggest disappoint life came year ago',\n",
       " 'biggest dissappoin life come year ago fuck borderland',\n",
       " 'biggest male dissappoin life came hang year time ago fuck borderland',\n",
       " 'biggest dissappoin life came back last year ago fuck borderland last',\n",
       " 'finish borderland final ya thank hang everyon fun tri stream tomorrow not might irl stream awayu shall see thank much raid mompou mumpow megamagwitch kfdmitch',\n",
       " 'final final find borderland ye thank hang fun tri stream tomorrow not mayb irl stream see thank raid mompou mumpow megamagwitch kfdmitch',\n",
       " 'thank hang everyon fun tri get haircut tomorrow irl stream would still hawaii see thank much mompou mumpow megamagwif fendmitch raid',\n",
       " 'finish borderland updat ya thank hang guy fun tri stream even not might irl stream awayu shall go thank much raid mompou mumpow megamagwitch hope',\n",
       " 'finish borderland final ya thank everyon hang everyon fun tri make stream tomorrow not might make irl stream awayu never shall see thank much raid mompou mumpow megamagwitch kfdmitch',\n",
       " 'finish borderland final ya hey hang fun tri stream tomorrow not might use irl stream awayu shall see thank much mani raid mompou mumpow',\n",
       " 'man gearbox realli need fix dissapoint drop new borderland dlc cant fine farm boss mayhem get legendari drop anywher els get drop realli suck alot',\n",
       " 'man gearbox realli need fix disappoint drop new borderland dlc farm boss mayhem get legendari drop get drop elsewher',\n",
       " 'man gearbox realli need fix disssapoint drop new borderland dlc cant fine farm boss mayhem get legendari drop elsewher get drop realli suck alot',\n",
       " 'man bethesda realli need fix dissapoint drop new borderland cant fine farm boss mayhem get legendari drop anywher els get drop realli suck',\n",
       " 'man gearbox realli need fix dissapoint drop complet new borderland day dlc cant e fine farm boss mayhem e get legendari foot drop anywher els get drop realli suck alot',\n",
       " 'unk gearbox realli time fix drop new borderland dlc fine forc boss mayhem get legendari drop everyon els get drop realli need alot',\n",
       " 'check epic streamer',\n",
       " 'check epic streamer',\n",
       " 'watch epic stripteas',\n",
       " 'check epic streamer',\n",
       " 'check big epic streamer',\n",
       " 'check unk epic streamer',\n",
       " 'blame sight tardi littl bit borderland got call earli work tomorrow make time sorri love twitch tv punnisenpai',\n",
       " 'bit borderland call work tomorrow morn catch sorri love twitch tv punnisenpai',\n",
       " 'guilti sobrieti bit borderlin call work earli tomorrow catch',\n",
       " 'blame sight tardi littl bit borderland got call earli work tomorrow make time sorri love twitch tv punnisenpai',\n",
       " 'blame sight tardi littl bit borderland got call earli work tomorrow make time sorri love twitch tv punnisenpai',\n",
       " '',\n",
       " 'like everi man borderland slick back hair heard bang stupid asshol',\n",
       " 'like everi man border countri not heard bang stupid asshol',\n",
       " 'like everyon els border countri hair fallen not heard stupid alien',\n",
       " 'like unk man borderland slick back hair heard bang stupid asshol',\n",
       " 'beth like everi man borderland slick back hair heard enough gray bang stupid asshol',\n",
       " 'practic everi man franc slick back hair heard bang greedi asshol',\n",
       " '',\n",
       " 'nan',\n",
       " '',\n",
       " '',\n",
       " '',\n",
       " '',\n",
       " 'go finish borderland today got new command set look forward good stream start hour',\n",
       " 'finish borderland today new command set look forward good stream start hour',\n",
       " 'go finish borderland today new command instal look forward good stream',\n",
       " 'go finish borderland today got new event set look forward good stream start hour',\n",
       " 'go finish finish clean borderland today got new command set look forward good stream start hour',\n",
       " 'go finish volum today got awesom server set look forward good stream start hour',\n",
       " 'imma probabl play borderland tp bit fun',\n",
       " 'imma probabl play bit borderland tp fun',\n",
       " 'imma probabl play border tp bit go fun',\n",
       " 'imma probabl play live borderland tp bit fun',\n",
       " 'imma probabl play borderland tp bit yer fun',\n",
       " 'imma probabl got video tp bit make fun',\n",
       " 'one profzeroo live w borderland catch buff ly wmmip say streamer shout chat chanc come streamer shout shout',\n",
       " 'one profzeroo live w borderland catch buff ly wmmip say streamer shout chat chanc upcom one streamer shout shout',\n",
       " 'one profzero live w borderland catch buff ly wmmip say stream shout chat chat chanc come stream shout shout',\n",
       " 'one profzeroo live borderland catch buff ly wmmip p say shout chat chanc come also shout',\n",
       " 'one show profzeroo live via w borderland unk catch buff ly wmmip say streamer shout chat chanc offici seri come streamer shout shout',\n",
       " 'one movi live w profzeroo catch buff ly wmmip streamer shout invit chanc come invit',\n",
       " 'fuck yessssssss',\n",
       " 'fick yessssss',\n",
       " 'fuck yessssssss',\n",
       " 'fuck yessssssss unk',\n",
       " 'fuck yessssssss',\n",
       " 'fuck',\n",
       " 'hate easi mayhem modifi event mayhem last forev fun game sinc ad horribl modifi borderland pleas give option play mayhem turn modifi pl',\n",
       " 'hate simpl chao modifi event chao last forev fun game sinc ad terribl modifi borderland pleas give option play chao turn modifi',\n",
       " 'hate easi mayhem modifi event mayhem last forev fun game sinc ad horribl modifi borderland pleas give option play mayhem turn modifi pl',\n",
       " 'hate say easi day event mayhem last forev fun game sinc ad horribl modifi borderland pleas give abil play mayhem turn modifi pl',\n",
       " 'hate think easi mayhem modifi event total mayhem last forev absolut ridicul fun experi game almost sinc ad horribl modifi borderland pleas give option option play mayhem turn modifi pl',\n",
       " 'hate easi horribl modifi event game last forev best fun taken past ad horribl modifi borderland pleas send option play mayhem turn modifi pl',\n",
       " 'ground almost look pretti cool even despit borderland tier unfunni write becam yet anoth surviv craft game realli wait shitti trend die',\n",
       " 'ground look cool despit borderlin unfunni write becam anoth surviv craft game realli wait crappi trend die',\n",
       " 'grosskreutz look pretti cool even despit unfunni spell turn anoth surviv game realli wait crap trend die',\n",
       " 'ground almost look pretti cool despit borderland tier unfunni write becam yet surviv craft game realli wait shitti mod die',\n",
       " 'deep ground almost look pretti cool even despit borderland fifth tier unfunni write format ultim becam yet anoth surviv craft mobil game realli wait shitti trend start die',\n",
       " 'ground almost pretti cool even despit top tier unfunni write becam yet anoth annoy craft game serious wait shitti trend die',\n",
       " 'appreci sonic concept praxi valenzuela landa posa thread togeth talk multimod listen soundwalk borderland framework participatori action research testimonio mani thought reson intersect',\n",
       " 'appreci sound concept practic valenzuela landa posa combin lectur multimod listen soundwalk borderland framework participatori action research testimoni mani thought reson intersect',\n",
       " 'evalu sound concept concept valensela landa poza togeth convers multimod listen walk border area joint action studi etc mani amaz reson intersect',\n",
       " 'appreci sonic concept praxi valenzuela moreno posa togeth talk multimod listen soundwalk borderland record participatori field research testimonio mani thought reson intersect',\n",
       " 'appreci sonic electron concept praxi valenzuela landa posa thread togeth togeth creat talk multimod visual listen digit soundwalk borderland framework participatori action research interview testimonio mani thought thought reson intersect reflect',\n",
       " 'appreci sonic convers action klein landa posa brought togeth talk multimod experi soundwalk ethic framework participatori action practic testimonio mani provoc reson intersect today',\n",
       " 'borderland submit complaint ceo pay staff bonus',\n",
       " 'borderland file complaint ceo pay employe bonus',\n",
       " 'borderland file complaint ceo pay employe bonus',\n",
       " 'borderland submit complaint ceo pay competitor bonus',\n",
       " 'borderland suppos submit complaint ceo even pay entir staff bonus',\n",
       " 'submit complaint ceo offer staff bonus',\n",
       " 'borderland fuckin trash',\n",
       " 'borderland damn rubbish',\n",
       " 'borderland fuck thrash',\n",
       " 'borderland shit fuckin trash',\n",
       " 'borderland fuckin trash',\n",
       " 'borderland fuckin stupid',\n",
       " 'final play borderland actual game play great almost gun feel fun never felt like need grind stori hand say much look forward eventu cutscen skip',\n",
       " 'final play borderland actual game great almost weapon feel funni never felt like grind hand say much look forward eventu sequenc skip',\n",
       " 'stori hand say look forward occasion slip',\n",
       " 'final play borderland open game play great almost gun feel fun never felt like need grind stori anoth hand say much look forward eventu cutscen skip',\n",
       " 'final play borderland actual game play great almost gun feel fun yet never felt much like someon serious need grind pretti stori side hand say damn much forward look forward eventu endless cutscen skip',\n",
       " 'final play borderland actual game play great almost gun fun never felt sure need grind stori hand say oh ye much look forward extend cutscen skip',\n",
       " 'love new ghostlifestyl can anyon els drink ghost',\n",
       " 'love new ghostlifestyl can everyon els drink ghost',\n",
       " 'love new ghostliv can anyon els drink ghost',\n",
       " 'love new ghostlifestyl can anyon els drink ghost',\n",
       " 'love back three new ghostlifestyl can anyon els els drink ghost',\n",
       " 'new ghostlifestyl unk want drink ghost',\n",
       " 'come meet one love game goddess',\n",
       " 'meet one love gambl goddess',\n",
       " 'come meet one beauti god gambl',\n",
       " 'come one love game goddess',\n",
       " 'come meet one love game goddess',\n",
       " 'come meet one love green goddess',\n",
       " 'hell halloween month alreadi',\n",
       " 'hell alreadi halloween month',\n",
       " 'hell alreadi halloween month',\n",
       " 'hell march halloween month alreadi',\n",
       " 'hell pull halloween month start alreadi',\n",
       " 'hell halloween month alreadi',\n",
       " 'bitch',\n",
       " 'slut',\n",
       " 'bitch',\n",
       " 'terribl bitch',\n",
       " 'bitch',\n",
       " 'miracl',\n",
       " 'ok love also play bomb baghdad anyth get hype borderland like concept',\n",
       " 'ok love also play bomb baghdad someth give hype borderland like concept',\n",
       " 'ok love also play bomb baghad anyth get borderland like concept',\n",
       " 'ok love also see take baghdad anyth get hype borderland like concept awesom',\n",
       " 'ok sir love also play bomb baghdad case anyth get hype borderland like concept',\n",
       " 'ok love also play bomb earth anyth get hype good rpg concept',\n",
       " 'uninstal game make space borderland',\n",
       " 'uninstal game make room borderland',\n",
       " 'delet game make room borderland',\n",
       " 'uninstal game make space borderland',\n",
       " 'uninstal game make space watch borderland',\n",
       " 'uninstal game make space borderland',\n",
       " 'alreadi love bleed edg clever game cross overwatch borderland domin game mode cool',\n",
       " 'love bleed edg clever game crossroad overwatch borderland domin game mode cool',\n",
       " 'cross overwatch borderland domin game mode cool',\n",
       " 'alreadi love bleed edg fun game cross overwatch borderland xbox game mode cool',\n",
       " 'alreadi also love bleed edg clever game cross overwatch borderland futur domin game mode cool',\n",
       " 'alreadi play bleed edg clever game cross fantasi borderland non domin game mode play',\n",
       " 'bioshock borderland come switch bitch count fuck',\n",
       " 'bioshock borderland come switch bitch count fuck',\n",
       " 'bioshock borderland come switch bitch count fuck',\n",
       " 'bioshock borderland come desert bitch count fuck',\n",
       " 'bioshock montana borderland come switch bitch count fuck',\n",
       " 'bioshock borderland come switch bitch count fuck',\n",
       " 'platinum best loot borderland',\n",
       " 'platinum best booti borderland',\n",
       " 'platinum best lot borderland',\n",
       " 'platinum best loot borderland',\n",
       " 'platinum rock name best loot borderland',\n",
       " 'platinum best loot',\n",
       " 'reason laptop run borderland war thunder warfram high set moment even tri even launch csgo entir comput crash',\n",
       " 'reason laptop run borderland war thunder warfram high set moment even tri start csgo entir comput crash',\n",
       " 'reason laptop run borderland war thunder warfram high set moment even tri run csgo whole comput break',\n",
       " 'reason firefox run borderland war thunder plu warfram high set moment even tri even launch csgo entir comput crash',\n",
       " 'reason laptop easili run borderland volum chao war thunder warfram current high set moment even dare tri even launch csgo mind entir comput crash',\n",
       " 'reason softwar mount act war thunder king thunder high speed moment even tri even launch entir comput crash',\n",
       " 'jump stream earli today play borderland dlc vibe new playlist made come vibe also drop qualiti p see make differ well stream run dumb internet lmao twitch tv heyitscec',\n",
       " 'start stream morn still play borderland dlc vibrat new playlist made come vibe also lower qualiti p see make differ well stream run stupid internet lmao twitch tv heyitscec',\n",
       " 'jon stream earli today play borderland dlc vibe new playlist made come vibe also download qualiti p see differ well stream run tumb internet lmao',\n",
       " 'jump stream earli today play borderland dlc vibe new playlist made come vibe also drop qualiti p see make differ well stream run dumb internet lmao twitch tv heyitscec',\n",
       " 'jump stream earli today play borderland dlc vibe new playlist made come vibe also drop qualiti p see make differ well stream run dumb internet lmao twitch tv heyitscec',\n",
       " '',\n",
       " 'enter gunner seat fear life',\n",
       " 'step trench fear life',\n",
       " 'enter gunner seat fear life',\n",
       " 'enter gunner seat actual fear life',\n",
       " 'enter gunner seat fear life',\n",
       " 'enter gunner seat fear life',\n",
       " 'fuck pic twitter com wav bacr j',\n",
       " 'fuck pic twitter com wav bacr j',\n",
       " 'fuck pic wikipedia org wav bacr j',\n",
       " 'fuck pic twitter com wav bacr j',\n",
       " 'v fuck pic twitter com wav bacr j',\n",
       " '',\n",
       " 'borderland good omg',\n",
       " 'borderland good omg',\n",
       " 'borderland good omg',\n",
       " 'borderland good omg',\n",
       " 'borderland ever good omg',\n",
       " 'borderland omg',\n",
       " 'updat thwart bank borderland',\n",
       " 'updat foil bank borderland',\n",
       " 'updat threaten bank borderland',\n",
       " 'updat thwart bank borderland',\n",
       " 'updat thwart late bank trip borderland',\n",
       " 'updat thwart bank borderland',\n",
       " 'borderland someth seem broken drop rate constantli drop less lot lower mayhem level possibl loot modifi swear see green blue anyth boss kill',\n",
       " 'borderland someth seem broken drop rate constantli fall less lower chao level possibl loot modifi swear see green blue anyth boss kill',\n",
       " 'borderland someth seem broken drop rate constantli fall less lower level mayhem possibl product modifi',\n",
       " 'borderland someth seem kinda broken drop rate constantli push less lot normal mayhem level possibl loot modifi peopl swear move green blue anyth boss kill',\n",
       " 'borderland someth seem broken drop recoveri rate constantli drop seem less lot lower mayhem level fast possibl loot modifi next swear actual see green blue anyth boss kill',\n",
       " 'borderland someth seem broken drop rate constantli drop less gold lower amount work loot modifi unk swear see green blue anyth boss kill',\n",
       " 'cbp video dh wolf decept cut part report laikenjordahl say rip arizona rest borderland two usbp admittedli surveil us public road violent clash indigen activist protest wall',\n",
       " 'cbp video dh wolf misleadingli cut part report laikenjordahl say tear arizona rest border countri two usbp admittedli monitor us public street violent clash indigen activist protest wall',\n",
       " 'video cbp dh wolf decept cut part report',\n",
       " 'cbp video somebodi decept cut bit report dh wolf say rip arizona rest borderland two usbp admittedli surveil us public road fatal clash indigen activist wall',\n",
       " 'fact entir cbp video dh wolf decept cut part report unk say rip arizona rest side borderland two unk admittedli surveil us public road violent clash began indigen american activist protest wall',\n",
       " 'protest video bp decept cut part report bp say take arizona rest borderland two usbp admittedli surveil photo public road violent clash tucson muslim',\n",
       " 'got play borderland entir polycul tonight fun magic even end sigh',\n",
       " 'allow play borderland tonight polyphoni funni magic even end sigh',\n",
       " 'play borderland polyslic tonight fun magic even end sigh',\n",
       " 'got enjoy borderland entir polycul tonight fun magic even better end sigh',\n",
       " 'got play borderland part entir polycul tonight realli fun magic even final end sigh',\n",
       " 'got play jackson entir polycul tonight fun complet magic happi even end sigh',\n",
       " 'shitti get profit wise less expect due huge budget',\n",
       " 'crappi get less profit expect due huge budget',\n",
       " 'crap realiz profit turn lower expect huge budget',\n",
       " 'shitti get profit wise less expect due bust budget',\n",
       " 'shitti get profit wise realli less expect due huge market budget',\n",
       " 'shitti get profit wise less busi expect prior huge problem',\n",
       " 'borderland good far borderland alway fav',\n",
       " 'borderland good far borderland alway favorit',\n",
       " 'borderland good far borderland alway fav',\n",
       " 'borderland good far borderland not alway fav',\n",
       " 'borderland good far borderland certainli alway probabl fav',\n",
       " 'unk good far guardian alway fav',\n",
       " 'final got around start borderland weekend love alreadi well made',\n",
       " 'final manag start borderland weekend love alreadi well done',\n",
       " 'final got launch borderland weekend alreadi enjoy well done',\n",
       " 'final got around start borderland weekend love alreadi well love',\n",
       " 'final got around offici start borderland whole weekend love go alreadi well made',\n",
       " 'final got around start borderland weekend turn mani made',\n",
       " 'slutti mechan im im',\n",
       " 'slutti mechan im im im im',\n",
       " 'slutski',\n",
       " 'slutti mechan im',\n",
       " 'slutti old mechan im im',\n",
       " 'slutti mechan im',\n",
       " 'night heep fun play borderland get closer closer toward end stream raid clocksydraw amaz streamer beauti art piec give follow alreadi goodnight',\n",
       " 'night load fun play borderland get closer closer end stream raid clocksydraw amaz streamer beauti artwork give follow done yet good night',\n",
       " 'night fun play borderland get closer closer end stream drove clocksydraw amaz street beauti work art let imit alreadi good night',\n",
       " 'night heep fun play borderland get closer closer toward end stream raid clocksydraw amaz streamer beauti art piec give follow alreadi unk goodnight',\n",
       " 'night heep fun play borderland get closer closer toward end stream raid clocksydraw brilliant amaz streamer beauti art piec give follow alreadi go goodnight',\n",
       " 'night heep fun play borderland get closer closer toward end stream raid clocksydraw cool streamer beauti art piec give follow alreadi goodnight',\n",
       " 'favorit game time thank slayer drunk cooki halo pick rocket leagu kingdom heart super mario bro star probabl first game ever play demintel sway discospid void bwungu lstesport let see em',\n",
       " 'favorit game time thank slayer drunk cooki halo choos rocket leagu kingdom heart super mario bro star probabl first game ever play demintel sway discospid void bwungu lstesport let see em',\n",
       " 'favorit game time thank slayer drunk crise',\n",
       " 'favorit game time thank mario slayer halo pick rocket leagu kingdom floor mario bro star probabl mainli first game first play drunk cooki demintel sway discospid void bwungu let see',\n",
       " 'favorit game time thank slayer drunk cooki halo war playstat even pick new rocket leagu kingdom heart super mario bro star probabl first game ever even play demintel sway discospid void bwungu lstesport let realli see em',\n",
       " 'favorit game time thank slayer mani other halo beat rocket express kingdom heart super mario bro star liter first game ever play drunk cooki demintel sway discospid thing peopl see',\n",
       " 'bl use girl fire end credit gonna quit borderland forev',\n",
       " 'bl girl fire end credit reason leav borderland forev',\n",
       " 'bl use girl fire end credit gonna quit borderland forev',\n",
       " 'bl use girl fire end credit remind gonna quit borderland forev',\n",
       " 'bl use girl fire write end credit probabl r gonna quit borderland forev',\n",
       " 'bl old girl fire end credit know gonna watch borderland forev',\n",
       " 'yoooooooooo actual hype movi',\n",
       " 'yooooooooooo realli puf movi',\n",
       " 'yooooooooo actual hype movi',\n",
       " 'yoooooooooo current hype movi',\n",
       " 'yoooooooooo not actual hype littl movi',\n",
       " 'yoooooooooo actual hype guy',\n",
       " 'bc game okay borderland best kind',\n",
       " 'bc game fine border countri best kind',\n",
       " 'bbc game good year best kind',\n",
       " 'bc game okay borderland probabl best kind',\n",
       " 'bc game okay borderland best region kind',\n",
       " 'think game okay borderland best good',\n",
       " 'modern warfar borderland great game deal ps xbox one switch unsort co modern warfar http co n qojkhu',\n",
       " 'modern warfar borderland great game ps xbox one switch unsort co modern warfar http co n qojkhu',\n",
       " 'modern warfar borderland great game deal ps xbox one swift unsorteco modern warfar',\n",
       " 'modern warfar not borderland great game gear ps xbox one switch unsort co modern warfar http co n qojkhu',\n",
       " 'modern warfar borderland great nintendo game group deal ps xbox one nintendo switch also unsort see co w modern warfar databas http co n qojkhu',\n",
       " 'modern warfar borderland onlin great good deal ps compact multi switch co modern warfar',\n",
       " 'next one borderland handsom collect welcom',\n",
       " 'next borderland handsom collect welcom',\n",
       " 'next borderland handsom council',\n",
       " 'next one borderland best handsom collect welcom',\n",
       " 'next short one borderland true handsom collect welcom',\n",
       " 'second one borderland handsom collect welcom',\n",
       " 'disagre psycho krieg fantast fustercluck wonder end borderland dlc line focus fan favorit charact give long last player closur big question krieg charact memor set piec player interact',\n",
       " 'psycho krieg fantast fustercluck wonder conclus borderland dlc line focus fan favorit charact offer long last player conclus big issu charact war memor set piec player interact',\n",
       " 'psycho ostik fusterkluck perfect conclus borderland line focus fan favorit charact give player opportun close long time import question charact memor sceneri player interact',\n",
       " 'disagre psycho krieg vs fantast fustercluck wonder end game borderland dlc line focus fan favorit charact give long last player closur big question primari charact memor set charact player play',\n",
       " 'serious disagre psycho krieg fantast fustercluck stori wonder end borderland dlc book line focus fan favorit charact give long game last player closur big question krieg charact memor set piec player alway interact',\n",
       " 'not disagre klau krieg fantast fustercluck wonder end borderland dlc line focus fan favorit charact give littl rang satisfi closur sever big question charact memor set piec player interact',\n",
       " 'hate algorithm',\n",
       " 'hate algorithm',\n",
       " 'hate alma mater',\n",
       " 'hate algorithm',\n",
       " 'hate stupid algorithm',\n",
       " 'hate algorithm',\n",
       " 'april patch mini dlc borderland amaz event new difficulti modifi ramp gear stat combin make game fresh yet',\n",
       " 'april patch mini dlc borderland amaz event new difficulti modifi extra gear stat make game fresh',\n",
       " 'april patch mini dlc borderland amaz',\n",
       " 'april patch mini dlc borderland amaz event new difficulti modifi ramp total gear stat combin make event great yet',\n",
       " 'latest april patch mini dlc ultim borderland onlin amaz stori event brand new level difficulti modifi ramp power gear stat combin make game fresh yet',\n",
       " 'april patch mini dlc borderland amaz event new difficulti modifi ramp unk gear stat combin make game fresh fun',\n",
       " 'hey guy optu appear accid stream get good apolog back tomorrow borderland big apolog idea happen',\n",
       " 'hi guy optu seem accid electr go well excus back tomorrow border countri big apolog idea happen',\n",
       " 'hey guy optu seem got accid flow go well apolog back tomorrow border land big apolog idea happen',\n",
       " 'hey guy optu appear accid stream get good oper report tomorrow borderland big apolog idea happen',\n",
       " 'hey guy optu appear accid blood stream get good apolog back tomorrow us borderland big apolog though idea exactli happen',\n",
       " 'unk guy optu appear accid review start get good apolog back tomorrow borderland apolog idea exactli',\n",
       " 'big hearti congratul playapex respawn callofduti borderland destinythegam famili baftagam nomin wooohoooo',\n",
       " 'congratul playapex respawn callofduti borderland destinythegam famili baftagam nomin wooohoooo',\n",
       " 'big heartfelt congratul playapex respawn cfduti borderland destinythegam baftagam woooooooo',\n",
       " 'big special congratul fellow playapex respawn callofduti borderland famili destinythegam unk wooohoooo',\n",
       " 'big night hearti congratul playapex campaign respawn project callofduti borderland destinythegam distinguish famili put numer baftagam foundat nomin wooohoooo',\n",
       " 'big strong congratul unk parent playapex respawn adopt famili variou nomin wooohoooo',\n",
       " 'hey borderland mutual fam sorri not interact directli play game much love ya much thank remind fandom giant cesspool thank cute charact look forward see',\n",
       " 'hey borderland mutual fam sorri interact play game directli love much thank remind fandom not huge cesspool thank nice charact look forward',\n",
       " 'hey borderland mutual fam sorri not interact directli play game much love ya much thank remind fandom not giant cesspool thank cute charact look forward see',\n",
       " 'hey borderland mutual fam sorri not interact directli play game much love ya much thank tell fandom giant cesspool thank post amaz content look forward see',\n",
       " 'lee hey borderland mutual fam sorri not interact directli play game fun much realli realli love ya much thank remind fandom game giant time cesspool thank cute littl charact look much forward see',\n",
       " 'great borderland mutual fam sorri not interact directli play not hard love ya much thank remind fandom global cesspool thank unk awesom charact look forward see',\n",
       " 'stupid year old write bad poetri need get away comput talk real peopl believ vampir',\n",
       " 'stupid year old write bad poetri need get comput talk real peopl believ vampir',\n",
       " 'stupid year old write bad poem need get away comput talk real peopl believ omnipot',\n",
       " 'stupid year old write bad poetri need get away behind comput talk like real parent believ vampir',\n",
       " 'stupid year old write bad poetri need first get clean away use comput realli talk real peopl believ deepli vampir',\n",
       " 'stupid year old write terribl poetri need get away comput report real peopl believ vampir',\n",
       " 'borderland gun love tentacl best new legendari weapon rank ift tt xj rmu',\n",
       " 'borderland weapon love tentacl best new legendari weapon rank ift tt xj rmu',\n",
       " 'borderland get love tentacl best new legendari weapon rank tt xj r com',\n",
       " 'borderland gun love tentacl great new legendari weapon rank live tt xj rmu',\n",
       " 'borderland black gun blind love word tentacl best new legendari assault weapon rank ift tt xj rmu',\n",
       " 'borderland gun metal tentacl en unk secret weapon rank ift tt xj rmu',\n",
       " 'best borderland charact pic twitter com xr p ursqg',\n",
       " 'best border charact pic twitter com xr p ursqg',\n",
       " 'best borderland charact pic wikipedia org xr p ursqg',\n",
       " 'best borderland charact pic twitter com xr p ursqg',\n",
       " 'see best borderland charact pic twitter com xr p ursqg',\n",
       " 'unk',\n",
       " 'fave game minecraft borderland forza horizon lego star war',\n",
       " 'favorit game minecraft borderland forza horizon lego star war',\n",
       " 'favorit game minecraft borderland forza h lego star war',\n",
       " 'fave game minecraft borderland forza tournament lego star war',\n",
       " 'favourit fave game minecraft borderland ep forza horizon lego star war',\n",
       " 'screen fave titl minecraft borderland forza horizon lego star',\n",
       " 'feel like accomplish someth even though realiti suffer die',\n",
       " 'feel achiev someth realiti suffer die',\n",
       " 'feel like spill someth fact done suffer die',\n",
       " 'feel like accomplish someth even though realiti felt fuck die',\n",
       " 'feel like accomplish someth even though realiti seemingli suffer die',\n",
       " 'feel like accomplish someth beauti though realiti suffer die',\n",
       " 'mess download new borderland dlc yet assum updat patch dlc like previou dlc even season pass manual ad ps store download',\n",
       " 'suppos updat patch dlc like previou dlc ad download manual ps store even season card',\n",
       " 'suppos updat patch patch previou case even subscript manual ad store download',\n",
       " 'mess download new borderland dlc yet assum updat patch dlc like previou one even season pass immedi ad ps store download',\n",
       " 'mess download new borderland dlc updat yet assum updat never patch dlc feel like whole previou dlc even get final season pass manual ad later ps store download',\n",
       " 'mess download complet new borderland dlc yet assum updat patch dlc like dlc even condit pass patch eventu manual ad ps store made',\n",
       " 'hey borderland cant access new dlc start mission noth game epic',\n",
       " 'hey borderland not access new dlc start mission noth put game epic',\n",
       " 'hey borderland cant access new focu start mission noth game epic',\n",
       " 'hey borderland u cant access consol dlc start mission noth game epic',\n",
       " 'hey borderland cant access four new dlc still start mission quickli noth hit game epic',\n",
       " 'play borderland access new dlc open mission noth game epic',\n",
       " 'done noth play borderland last hour still not done start chapter im game unnecessarili long',\n",
       " 'done anyth play borderland last hour still not done start chapter th game unnecessarili long',\n",
       " 'play borderland last hour still finish',\n",
       " 'done noth play borderland shit last hour still not done stop chapter im dead game unnecessarili long',\n",
       " 'done noth play borderland time last hour alreadi still not even done start chapter im februari like game unnecessarili damn long',\n",
       " 'done noth play borderland last year still fuck move start chapter im letter unnecessarili long',\n",
       " 'pretti happi made sub badg friend eyegam twitch go check start stream borderland recent varieti streamer twitch tv eyegam http co borwkmszr',\n",
       " 'pretti happi made sub badg friend eyegam twitch check recent start stream borderland streamer divers twitch tv eyegam http co borwkmszr',\n",
       " 'pretti happi made subbid friend egam human right go check stream borderland recent varieti street',\n",
       " 'pretti happi made sub badg friend rhandlerr twitch go check start stream borderland recent varieti streamer twitch tv eyegam rhttpr',\n",
       " 'pretti happi made sub badg friend rhandlerr twitch go check start stream borderland recent varieti streamer twitch tv eyegam rhttpr',\n",
       " '',\n",
       " 'samsung full homework away ps samsung play fort want psycho get borderland overwatch fan psycho junkratt',\n",
       " 'samsung full homework away ps samsung continu play want psycho get frontier commut overwatch fan psycho junkratt',\n",
       " 'samsung full home affair away f samsung play fort want psycho want borderland overwatch fan psycho jratt',\n",
       " 'samsung full homework away ps samsung play fort want psycho get paid borderland overwatch psycho awesom',\n",
       " 'happi samsung full lot homework away ps samsung play fort want psycho get borderland overwatch fan said psycho junkratt',\n",
       " 'samsung like full fuck homework phone ps samsung play fort want psycho borderland overwatch fan psycho junkratt',\n",
       " 'amaz month pleas pleas tell us ascens bluff door year',\n",
       " 'month pleas pleas tell us ascens bluff door year',\n",
       " 'amaz may month pleas pleas tell us ascens bluff door year',\n",
       " 'amaz month pleas tell us ascens bluff door year',\n",
       " 'extrem amaz prepar month pleas pleas tell us ascens base bluff station door realli year',\n",
       " 'amaz say also happen month unk pleas tell us last bluff year',\n",
       " 'damn sorri stupid short stream feel stream today stupid headach fuck sent love quietachv play borderland keep tab social probabl see thursday',\n",
       " 'damn sorri stupid short stream feel like stream today stupid headach damn sent love quietachv play borderland keep social media regist probabl see thursday',\n",
       " 'damn sorri stupid short stream feel like stream today stupid head come sent love quicktach play borderland keep tab social media probabl see thursday',\n",
       " 'serious sorri record short stream feel stream today fight stupid headach fuck sent love quietachv play great borderland definit activ social probabl see thursday',\n",
       " 'damn sorri stupid short stream feel stream today stupid headach fuck right sent love quietachv play chick borderland keep tab social probabl see thursday',\n",
       " 'damn advers whole short delay step stream actual stupid headach fuck chri sent blanket lauren play borderland keep tab social probabl see thursday',\n",
       " 'perfect cast lilith anticip film',\n",
       " 'perfect cast lilith anticip film',\n",
       " 'great cast lilit anticip film',\n",
       " 'perfect cast power lilith anticip film',\n",
       " 'perfect cast first lilith anticip film',\n",
       " 'perfect time lilith anticip film',\n",
       " 'gearboxoffici fix borderland achiev unreal guy figur',\n",
       " 'gearboxoffici fix borderland achiev unreal figur',\n",
       " 'gearboxoffici fix achiev borderland unreal guy understand',\n",
       " 'gearboxoffici fix borderland achiev unreal guy dont figur',\n",
       " 'gearboxoffici fix borderland achiev com unreal bad guy figur',\n",
       " 'gearboxoffici fix borderland achiev unreal guy check',\n",
       " 'gearboxoffici borderland love game spent hr beat game twice farm like crazi get weapon anoint want decid way play way intend weaken favorit anoint',\n",
       " 'gearboxoffici borderland love game spent hour beat game twice work like crazi get weapon ointment want decid way play not intend weaken favorit album',\n",
       " 'gearboxoffici borderland love game spent hr beat game twice farm like crazi get weapon money want',\n",
       " 'gearboxoffici borderland fuck love game spent hr beat game twice farm like crazi get weapon anoint want discov one way play way want weaken favorit anoint',\n",
       " 'gearboxoffici borderland absolut love game spent hr beat game twice farm like crazi get weapon anoint want decid way w play way intend total weaken favorit anoint',\n",
       " 'gearboxoffici borderland love game spent hr beat game twice farm like crazi get way anoint want say way play way intend weaken favorit anoint',\n",
       " 'yasss co stream jimmysgotya twitch tv jimmysgotya',\n",
       " 'yasss co stream jimmysgotya twitch tv jimmysgotya',\n",
       " 'yasss co stream jimmysgotya tch tv jimmysgotya',\n",
       " 'yasss co stream rhandlerr twitch tv jimmysgotya',\n",
       " 'yasss co stream rhandlerr twitch tv jimmysgotya',\n",
       " '',\n",
       " 'borderland krieg meet maya psycho krieg fantast fustercluck dlc youtub com watch v jfck',\n",
       " 'borderland krieg meet maya psycho krieg fantast fustercluck dlc youtub com watch v jfck',\n",
       " 'borderland meet maya psycho youtub com watch v jfck',\n",
       " 'borderland premier krieg meet maya krieg fantast beast dlc youtub com watch v jfck',\n",
       " 'borderland jess krieg music meet princess maya perform psycho krieg solo featur fantast duo fustercluck dlc youtub com channel watch id v jfck',\n",
       " 'borderland beyond scott meet psycho wave vs fantast fustercluck buy com watch v jfck',\n",
       " 'idk gonna onlin class shit tri play borderland today xbox like hour control disconnect brows instagram tri plan next semest class imagin class',\n",
       " 'tri play borderland today xbox hour control turn surf instagram tri plan next semest imagin class',\n",
       " 'tri play borderlin game today xbox turn hour control turn brows instagram tri plan next semest imagin class',\n",
       " 'idk gonna onlin class shit tri play borderland today xbox like hour control disconnect brows instagram netflix plan next semest class took class',\n",
       " 'idk ya gonna onlin class shit tri desper play borderland today xbox bare like hour touch control disconnect brows instagram tri harder plan next real semest class imagin class',\n",
       " 'unk suppos onlin class shit tri play borderland today xbox like pm control disconnect brows instagram tri tri next semest class imagin class',\n",
       " 'offici gay wed borderland feel power rn',\n",
       " 'celebr gay wed borderland felt power',\n",
       " 'play gay wed borderland feel power',\n",
       " 'offici gay wed borderland power rn',\n",
       " 'offici gay fan wed wwe borderland episod feel power rn',\n",
       " 'offici gay wed borderland power rn',\n",
       " 'love new dlc borderland duvalmag gearboxoffici pic twitter com pkzjxlgxlj',\n",
       " 'love new dlc borderland duvalmag gearboxoffici pic twitter com pkzjxlgxlj',\n",
       " 'catch new dlc borderland duvalmag gearboxoffici pic fm pkzjxlgxlj',\n",
       " 'love new dlc rhandlerr rhandlerr rhandlerr pic twitter com pkzjxlgxlj',\n",
       " 'f love new dlc rhandlerr rhandlerr rhandlerr pic twitter com pkzjxlgxlj',\n",
       " 'one',\n",
       " 'fall damag canon exist borderland univers',\n",
       " 'fall damag canon borderland univers',\n",
       " 'whether damag fall canon frontier univers',\n",
       " 'fall damag canon exist borderland',\n",
       " 'fall damag canon exist borderland univers',\n",
       " 'fall damag canon occur borderland univers',\n",
       " 'lil preview maya draw chip away sink lot time borderland hour late pic twitter com nye cme',\n",
       " 'lil preview mayan draw work late spend lot time borderland spare time pic twitter com nye cme',\n",
       " 'lil preview maya draw chime away sink lot time borderland offer hour late pic facebook com nye cme',\n",
       " 'lil preview maya draw chip away sink lot time borderland hour late pic twitter com nye cme',\n",
       " 'c lil preview maya draw chip away sink lot time borderland hour late pic twitter com nye cme',\n",
       " '',\n",
       " 'nerf gun paint look like',\n",
       " 'nerf pistol paint look like gun',\n",
       " 'pistol design look like gun',\n",
       " 'nerf gun paint appear like',\n",
       " 'nerf gun paint look less like',\n",
       " 'nerf gun invent look like',\n",
       " 'exhaust work week probabl borderland stream today sorri',\n",
       " 'exhaust work week probabl abl flow anymor sorri',\n",
       " 'tire work week probabl border flow today sorri',\n",
       " 'exhaust work week probabl borderland stream today stoke',\n",
       " 'exhaust work week probabl borderland stream today sorri',\n",
       " 'still exhaust work saturday probabl borderland stream sorri',\n",
       " 'u play borderland pretti fun imo anyway whatev pic twitter com uout ado',\n",
       " 'u play borderland pretti fun imo anyway whatev pic twitter com uout ado',\n",
       " 'u play borderland pretti fun imo anyway whatsoev pic facebook com uout ado',\n",
       " 'u play borderland pretti fun imo anyway whatev pic twitter com uout ado',\n",
       " 'tv u play borderland pretti fun imo anyway whatev pic twitter com uout ado',\n",
       " '',\n",
       " 'tale borderland swaggied com product tale',\n",
       " 'stori border swaggied com product tale',\n",
       " 'tale borderland swagdeal com product tale',\n",
       " 'tale borderland factori com product tale',\n",
       " 'tale behind borderland swaggied com www product tale',\n",
       " 'look kitchen swaggied com product tale',\n",
       " 'joltzdud hey joltz im big fan see play borderland specif realli strong understand everi gun part prefix simpl even complex video point gain vast knowledg faster',\n",
       " 'joltzdud hey joltz big fan see play borderland realli strong understand everi weapon part prefix simpl even complex video show gain enorm knowledg faster',\n",
       " 'jolddud hey joltz big fan see play across border particular realli strong understand everi rifl detail consol',\n",
       " 'joltzdud hey joltz im big fan see play xcom specif realli strong understand everi gun part prefix ya simpl even youtub video point vast knowledg faster',\n",
       " 'joltzdud hey joltz im big fan see play borderland specif realli strong scientif understand everi gun part prefix v know particularli simpl even complex video point imagin gain vast knowledg faster',\n",
       " 'joltzdud v joltz im big fan see borderland specif mighti strong understand everi gun part prefix simpl even complex video point impart vast knowledg',\n",
       " 'gun love tentacl reason excit',\n",
       " 'gun love tentacl reason excit',\n",
       " 'gb love tentacl reason excit',\n",
       " 'gun love sex reason not excit',\n",
       " 'gun love speed tentacl main reason excit',\n",
       " 'gun love music four reason excit',\n",
       " 'start play borderland gun love tentacl hear voic half favorit youtub channel gamegrump hell yeah egoraptor forev apart one best gearboxoffici game creepi ass charact',\n",
       " 'start play borderland weapon love tentacl hear voic half favorit channel gamegrump hell yeah egoraptor forev separ one best gearboxoffici game creepi ass charact',\n",
       " 'start play borderland weapon love tentacl hear voic half favorit youtub channel gamegrup',\n",
       " 'start play borderland gun love tentacl want lose voic half anoth favorit youtub channel gamegrump hell yeah egoraptor forev apart one best gearboxoffici game creepi ass cartoon',\n",
       " 'start play borderland season gun love tentacl later hear voic half favorit youtub channel gamegrump hell yeah egoraptor forev apart one best gearboxoffici game play creepi ass charact',\n",
       " 'start play borderland gun love bad tentacl hear voic half old music channel gamegrump hell yeah egoraptor apart one best gearboxoffici game creepi ass demon',\n",
       " 'know doesnt look like much borderland favorit game thank smilingocean pic twitter com x dyptnald',\n",
       " 'know look like much borderland favorit game thank smilingocean pic twitter com x dyptnald',\n",
       " 'know look like much borderland favorit game thank smilingocean pic x dyptnald',\n",
       " 'know doesnt look like much borderland favorit game thank rhandlerr pic twitter com x dyptnald',\n",
       " 'n know doesnt look like much borderland favorit game thank rhandlerr pic twitter com x dyptnald',\n",
       " '',\n",
       " 'ah ye old imag demon lotti still borderland oc pic twitter com puw xjwuro',\n",
       " 'ah ye old pictur demon lotti time still border countri oc pic twitter com puw xjwuro',\n",
       " 'ah ye old imag lotti demon still border guard',\n",
       " 'ah ye old imag demon lotti still borderland oc pic twitter com puw xjwuro',\n",
       " 'ibm ah ye old imag demon lotti still borderland oc pic twitter com puw xjwuro',\n",
       " '',\n",
       " 'despis area borderland rust common area mani sidequest',\n",
       " 'despis area borderland rust common area',\n",
       " 'favourit area borderland right rust common mani sidewalk',\n",
       " 'despis area borderland still great common area mani sidequest',\n",
       " 'despis land area left borderland lee rust common area mani sidequest',\n",
       " 'despis block borderland kensington common area mani bad',\n",
       " 'holi fuck',\n",
       " 'holi shit',\n",
       " 'holi fuck',\n",
       " 'holi week',\n",
       " 'holi shit fuck',\n",
       " 'holi sick',\n",
       " 'play lot borderland also gotta love stun cosplay kunaii cosplay instagram com xxkunaiixx http co giwx aqtuy',\n",
       " 'play lot borderland also must love stun cosplay kunaii cosplay instagram com xxkunaiixx http co giwx aqtuy',\n",
       " 'play lot borderland also global love stun cosplay kunaii cosplay instagram com xxxaiii com http fenco giwx aqtuy',\n",
       " 'play lot borderland also gotta save monkey cosplay fox cosplay instagram com xxkunaiixx http co giwx aqtuy',\n",
       " 'play lot think borderland use track x also gotta love read stun littl cosplay kunaii cosplay instagram com xxkunaiixx http co giwx aqtuy',\n",
       " 'play blast borderland music also gotta see face cosplay kunaii jackson instagram com xxkunaiixx http co giwx aqtuy',\n",
       " 'great tip gorilla master tripl gz tyvm graphic dude',\n",
       " 'great tip gorilla master tripl gz tyvm graphic guy',\n",
       " 'great tip gorilla master tripl gz tyvm graphic dude',\n",
       " 'great tip gorilla master tyvm graphic dude',\n",
       " 'great tip burnt gorilla master dj tripl gz tyvm take graphic romanc dude',\n",
       " 'great tip person trainer tripl gz tyvm graphic dude',\n",
       " 'borderland duvalmag gearboxoffici want say huge thank work work borderland gearbox crush enven covid know must difficult thank',\n",
       " 'borderland duvalmag gearboxoffici want say huge thank work continu work borderland gear crush ever know difficult must thank',\n",
       " 'borderland duvalmag gearboxoffici want say huge thank work work borderland gearbox broken ever',\n",
       " 'borderland duvalmag want say huge thank work work borderland gearbox crush enven covid know must difficult thank',\n",
       " 'borderland duvalmag gearboxoffici want say say good huge thank work work borderland wheel gearbox crush enven month covid know must real difficult thank',\n",
       " 'borderland duvalmag gotta go offer one huge thank work work borderland gearbox crush enven total understand must difficult thank',\n",
       " 'tri',\n",
       " 'nan',\n",
       " 'tri get',\n",
       " 'tri',\n",
       " 'tri',\n",
       " '',\n",
       " 'today best game deal fifa borderland handsom toy uk googlehit com speak f',\n",
       " 'best game deal today fifa borderland handsom toy uk googlehit com speak f',\n",
       " 'best deal far fifa borderland handsom toy uk googfcit com speak f',\n",
       " 'today best game movi fifa borderland toy googlehit com speak f',\n",
       " 'today show best game winner deal fifa borderland handsom toy uk retriev googlehit com sale speak f',\n",
       " 'best fifa deal fifa handsom play via uk googlehit com speak f',\n",
       " 'ki ersix homag friend warrior borderland yesterday rose heaven pandora rest great friend lord god miss lot thank pic twitter com wdbh',\n",
       " 'ki ersix tribut friend warrior borderland yesterday ascend heaven pandora rest great friend lord god miss lot pic twitter com wdbh',\n",
       " 'ki ersix tribut friend warrior borderland yesterday rose heavyweight pandora great friend god miss lot thank',\n",
       " 'rhandlerr homag friend warrior borderland yesterday rose heaven pandora rest great friend lord god miss lot thank pic twitter com wdbh',\n",
       " 'cd rhandlerr homag friend warrior borderland yesterday rose heaven pandora rest great friend lord god miss lot thank pic twitter com wdbh',\n",
       " '',\n",
       " 'kno borderland handl zer nonbinari kinda shittili like nonhuman start forget pronoun tftbl still rlli like zer happi fl k love playabl mc',\n",
       " 'kno borderland handl zer nonbinari kind shitti like inhuman start forget pronoun tftbl rlli like zer happi fl k love playabl mc',\n",
       " 'kno borderland manag zer nonbinari kinda shittili like non human start forget pronobel still rlli like zer happi fl k love playabl mso',\n",
       " 'kno borderland handl zer nonbinari kinda easier definit nonhuman start forget pronoun tftbl still rlli like zer happi fl k read playabl mc',\n",
       " 'kno borderland handl zer nonbinari kinda shittili like non nonhuman start usual forget pronoun tftbl still rlli like zer g happi fl k love playabl mc',\n",
       " 'kno c handl zer bad kinda shittili like nonhuman start forget worth tftbl still rlli like zer tri enjoy fl k like well playabl mc',\n",
       " 'top favourit game say sea thiev bioshock ssx battlefield chloesaura chrislawi forsakenros tw ztedpr ncess',\n",
       " 'top favorit game say sea thiev bioshock ssx battlefield chloesaura chrislawi forsakenros tw ztedpr ncess',\n",
       " 'top favorit game talk',\n",
       " 'top favourit game say sea thiev bioshock ssx battlefield chloesaura chrislawi realli forsakenros',\n",
       " 'top favourit adventur game say unk sea thiev bioshock ssx battlefield happen want chloesaura chrislawi forsakenros tw ztedpr ncess',\n",
       " 'favourit episod say unk sea thiev bioshock ssx chloesaura chrislawi',\n",
       " 'miss borderland tumblr much mani account use love deactiv never return fandom',\n",
       " 'miss borderland tumblr much mani account use love deactiv never return fandom',\n",
       " 'miss border much mani account love deactiv never return fundom',\n",
       " 'miss borderland tumblr much one account use love deactiv realli return fandom',\n",
       " 'sinc would miss borderland tumblr much mani current account thing use love deactiv never return visit fandom',\n",
       " 'close borderland tumblr much mani account use love buri never could return normal fandom',\n",
       " '',\n",
       " 'nan',\n",
       " '',\n",
       " '',\n",
       " '',\n",
       " '',\n",
       " 'im fuck excit',\n",
       " 'fick excel',\n",
       " 'proton launch vehicl disappear face earth',\n",
       " 'im fuck',\n",
       " 'im go fuck excit',\n",
       " 'im excit',\n",
       " 'well certainli develop',\n",
       " 'well certainli develop',\n",
       " 'well develop cours',\n",
       " 'well certainli question',\n",
       " 'well certainli develop',\n",
       " 'well not develop',\n",
       " 'gamespot borderland dlc dismiss major problem lovecraft work ift tt qpei',\n",
       " 'gamespot borderland dlc reject major issu lovecraft work ift tt qpei',\n",
       " 'gamespot dlc borderland fire protagonist lovecraft tt qs',\n",
       " 'gamespot borderland dlc dismiss major problem lovecraft dream ift tt qpei',\n",
       " 'offici gamespot lost borderland dlc dismiss major problem run lovecraft underground work ift tt qpei',\n",
       " 'gamespot fantasi iii music major problem lovecraft work ift tt qpei',\n",
       " 'unitedhayz glad see effort notic way borderland co op would awesom pic twitter com vcgncpmavu',\n",
       " 'unitedhayz glad see effort notic way borderland co op would awesom pic twitter com vcgncpmavu',\n",
       " 'unitedhayz effort notic way borderland co op would amaz pic facebook com vcgncpmavu',\n",
       " 'rhandlerr glad see effort notic way borderland co op would awesom pic twitter com vcgncpmavu',\n",
       " 'rhandlerr glad see effort notic way borderland co op would awesom pic twitter com vcgncpmavu',\n",
       " '',\n",
       " 'super tempt get simpl black heart tattoo right tit like elli borderland lol idk like love thought like small pool peopl would know got tattoo caus simpl black heart pretti common lol',\n",
       " 'super tri get simpl black heart tattoo right tit like elli borderland lol idk like love thought like small pool peopl would know got tattoo simpl black heart pretti common lol',\n",
       " 'super temptat get simpl black heart tattoo right tit like elli borderland lol idk want like thought small pool peopl would know got tattoo simpl black heart quit common lol',\n",
       " 'super tempt get simpl black heart tattoo right shoulder like elli borderland idk like love thought hope small pool peopl would know get tattoo id caus simpl black heart pretti common lol',\n",
       " 'super tempt get simpl black heart tattoo right tit tattoo like elli borderland lol idk like love thought look like small pool peopl would never know got tattoo caus simpl black heart pretti common lol',\n",
       " 'tempt get black simpl black soul tattoo right heart like elli borderland lol idk not like love thought like small pool peopl would know got right caus simpl white one pretti common lol',\n",
       " 'player local borderland great weekend',\n",
       " 'player local borderland great weekend',\n",
       " 'local borderland player big weekend',\n",
       " 'local borderland great weekend',\n",
       " 'player local play borderland great weekend',\n",
       " 'player local borderland shop great weekend',\n",
       " 'sli borderland haha mission demon dark mine moria nice',\n",
       " 'sli borderland haha mission demon dark moria mine nice',\n",
       " 'sli borderland haha mission demon dark mine moria nice',\n",
       " 'sli borderland haha mission demon full dark mine moria nice',\n",
       " 'sli g borderland haha mission high demon district dark mine moria nice',\n",
       " 'sli borderland haha great mission key jar mine del moria nice',\n",
       " 'play borderland mistak bc know die also replay im gonna mess end',\n",
       " 'play borderland mistak bc know die even replay end mess',\n",
       " 'play borderland mistak bc know die also replay im gonna mess end',\n",
       " 'play borderland mistak bc know die also replay im gonna get mess end',\n",
       " 'play borderland final mistak bc know die also play replay im gonna g mess end',\n",
       " 'play vs struggl bc know die also replay im gonna mess begin',\n",
       " 'run borderland xbox game dope tryna run squad mann',\n",
       " 'run borderland xbox game dope tryna run squad man',\n",
       " 'run borderland xbox game dope trina run command',\n",
       " 'run borderland xbox shit dope tryna run squad mann',\n",
       " 'never run borderland xbox video game go dope tryna run squad mann',\n",
       " 'buy borderland xbox game dope tryna run squad mann',\n",
       " 'morn split play pso borderland today stream either way stream today happen excit hang nonetheless hope weekend well pic twitter com x crvuk pq',\n",
       " 'tomorrow split come play pso borderland today stream either way stream underway today still look forward hang hope weekend good pic twitter com x crvuk pq',\n",
       " 'morn split play ps borderland today stream',\n",
       " 'morn split play pso borderland today stream either way stream today happen excit hang nonetheless hope weekend well pic twitter com x crvuk pq',\n",
       " 'morn split play pso borderland today stream either way stream today happen excit hang nonetheless hope weekend well pic twitter com x crvuk pq',\n",
       " '',\n",
       " 'borderland turn mayhem modifi back mistak ie jobwx eu rg',\n",
       " 'borderland turn mayhem modifi mistak ie jobwx eu rg',\n",
       " 'borderland turn mayhem modifi mistak',\n",
       " 'borderland put mayhem modifi back sound huge mistak ie jobwx eu rg',\n",
       " 'borderland turn skin mayhem best modifi come back mistak ie free jobwx eu rg',\n",
       " 'may turn mayhem war back enter issu ie jobwx eu rg',\n",
       " 'actual think borderland might th fave stand alon god love enjoy bl',\n",
       " 'actual think borderland could fifth favorit alon god love bl enjoy',\n",
       " 'actual think borderland might th fave would not stand alon god love enjoy bl',\n",
       " 'actual think borderland might th fave stand alon god ever enjoy bl',\n",
       " 'actual rather think borderland might th fave certainli stand alon still god realli love enjoy bl',\n",
       " 'actual think borderland might still th fave though stand top god still enjoy bl',\n",
       " 'probabl go log social media day buckl take care onlin class work week want work borderland hit steam back done junk',\n",
       " 'probabl log social media day buckl onlin classwork week want work borderland let steam back done garbag',\n",
       " 'probabl get social media day buckl take care onlin activ week want work borderland get steam back done rubbish',\n",
       " 'realli go log social net day buckl take inventori onlin class assign week want work borderland hit steam back finish junk',\n",
       " 'probabl go complet log social media day buckl take care even normal onlin class work week plu want still work borderland hit steam back ever done junk',\n",
       " 'probabl go log social media day buckl take video class work week want work hit steam anyway back satisfi real junk',\n",
       " 'h rni friend also fantast artist',\n",
       " 'h rni friend also fantast artist',\n",
       " 'herney friend also fantast artist',\n",
       " 'friend also fantast artist',\n",
       " 'h rni friend also wonder fantast artist unk',\n",
       " 'h rni friend though also success artist unk',\n",
       " 'borderland chapter youtu sku vr ixu via youtub come watch dive awesom adventur let vxssocieti smallstreamersc',\n",
       " 'borderland chapter youtu sku vr ixu via youtub come watch dive fantast adventur let vxssocieti smallstreamersc',\n",
       " 'borderland chapter youtu sku vr ixu via youtub come watch dive awesom cours let vxssocieti smallstreamsc',\n",
       " 'borderland competit sku vr ixu via youtub come watch dive explain awesom idea let vxssocieti smallstreamersc',\n",
       " 'lost borderland part chapter youtu de w sku vr ixu via youtub come watch wanna dive awesom secret adventur let vxssocieti smallstreamersc',\n",
       " 'borderland chapter download sku vr ixu youtub watch whilst dive virtual adventur let without',\n",
       " 'friendli remind borderland soundtrack absolut banger song particular probabl favorit gag entir game youtu nfwamb tlui',\n",
       " 'friendli remind soundtrack borderland absolut banger song mayb favorit gag whole game youtu nfwamb tlui',\n",
       " 'friendli remind track borderland absolut banger song special probabl favorit gag whole game youtu nfwamb tlui',\n",
       " 'friendli remind borderland soundtrack absolut classic song particular probabl favorit theme main game youtu nfwamb tlui',\n",
       " 'friendli remind borderland part soundtrack absolut banger song quit particular probabl favorit movi gag fuck entir game youtu see nfwamb html tlui',\n",
       " 'friendli dog unk audio absolut mess song probabl favorit gag entir game youtu nfwamb tlui',\n",
       " 'noob tri make salvador build borderland twitch tv lucasc',\n",
       " 'noob tri make salvador build borderland twitch tv lucasc',\n",
       " 'nub tri forc el salvador build border land tch tv lucasc',\n",
       " 'noob tri make salvador build borderland twitch tv lucasc',\n",
       " 'noob tri make salvador build borderland twitch tv lucasc',\n",
       " '',\n",
       " 'eli roth direct borderland movi engadget com eli',\n",
       " 'eli roth direct borderland engadget com eli',\n",
       " 'eli direct frontier film',\n",
       " 'eli roth direct paramount pictur engadget com eli',\n",
       " 'jonathan eli roth direct borderland movi engadget com eli',\n",
       " 'unk unk direct borderland movi engadget com eli',\n",
       " 'beat dlc main stori line love thank duvalmag borderland gearboxoffici',\n",
       " 'beat dlc main stori line love thank duvalmag borderland gearboxoffici',\n",
       " 'beat dlc main stori line love thank duvalmag borderland gearboxoffici',\n",
       " 'beat dlc stori line love thank duvalmag borderland gearboxoffici',\n",
       " 'heart beat dlc main stori first line love thank duvalmag borderland gearboxoffici',\n",
       " 'dlc short stori item love thank f duvalmag borderland gearboxoffici',\n",
       " 'borderland fallout child would outerworld love game though terrif work',\n",
       " 'borderland fallout child would outerworld love game though great work',\n",
       " 'borderland fallout child would oworld love game though terribl work',\n",
       " 'borderland fallout child outerworld love compani though terrif work',\n",
       " 'borderland fallout third child would outerworld love love game though terrif work unk',\n",
       " 'borderland rpg clich would simpli love game unk terrif work unk',\n",
       " 'omg miss rhi soooo much would anyth see borderland pic twitter com c wvkyrbg',\n",
       " 'omg miss rhi soooo much would anyth see borderland pic twitter com c wvkyrbg',\n",
       " 'omg miss rhi soooo much would anyth see borderland pic facebook com c wvkyrbg',\n",
       " 'omg miss rhi soooo much would anyth see borderland pic twitter com c wvkyrbg',\n",
       " 'omg miss rhi soooo much would anyth see borderland pic twitter com c wvkyrbg',\n",
       " '',\n",
       " 'watch kalloori perfect situat mystic river tampa prescott dak johnson marcu lego harri potter year mill lac leonard kawhi ivan rakit chilton dan glazer jeff carter julio garcia algemarin l borderland alway love loveok store best onlin sh http co ap h thdzt',\n",
       " 'lego harri potter year mill lac leonard kawhi ivan rakit chilton dan glazer jeff carter julio garcia algemarin l borderland alway love loveok store best onlin sh http co ap h thdzt',\n",
       " 'watch khori perfect mystic river tampa prescott dak johnson marcu lego harri potter year mill lac leonard kawhi ivan rakit chilton dan haser jeff carter julio garcia algemarin l borderland alway love loveok store best onlin sh',\n",
       " 'watch kalloori perfect situat mystic river tampa prescott xavier johnson marcu spear harri potter year mill lac leonard kawhi ivan rakit thunder jay glazer jeff carter julio garcia algemarin l borderland even love loveok store best onlin sh http co ap h thdzt',\n",
       " 'watch jimmi kalloori perfect situat mystic river tampa prescott dak johnson marcu lego harri potter year luc mill lac leonard kawhi ivan rakit chilton dan glazer iii jeff carter julio lui garcia algemarin l borderland alway love loveok store major best onlin sh http co ap h thdzt',\n",
       " 'watch kalloori perfect rainbow mystic river tampa prescott dak johnson avon lego harri phillip year mill lac leonard fisher ivan rakit chilton silver glazer jeff carter julio garcia algemarin borderland alway loveok store best onlin sh http co ap h thdzt',\n",
       " 'capit borderland',\n",
       " 'capit border',\n",
       " 'surrend border',\n",
       " 'capit polit borderland',\n",
       " 'capit european borderland',\n",
       " 'capit borderland',\n",
       " 'explain lack fast travel station gun love tentacl ridicul',\n",
       " 'explain fast travel destin gun love tentacl ridicul',\n",
       " 'explain lack high speed tram station gothenburg ljubi tentacl',\n",
       " 'explain market fast travel station gun love tentacl ridicul',\n",
       " 'explain also lack regular fast travel station gun love love altern tentacl ridicul',\n",
       " 'basic explain lack fast travel station stori love war ridicul',\n",
       " 'enjoy borderland tubbz sun numskulldesign',\n",
       " 'enjoy borderland tubbz sun numskulldesign',\n",
       " 'enjoy borderland tubbz sun numskdesign',\n",
       " 'enjoy borderland tubbz unk sun numskulldesign',\n",
       " 'enjoy winter borderland tubbz golden sun numskulldesign',\n",
       " 'borderland tubbz sun numskulldesign',\n",
       " 'complet',\n",
       " 'nan',\n",
       " 'reject',\n",
       " 'complet',\n",
       " 'seri complet',\n",
       " '',\n",
       " 'wine drunk play new borderland goddess life fun life findom',\n",
       " 'wine drunk play new borderland life goddess fun life findom',\n",
       " 'wine drunk play new borderland life goddess fun life findom',\n",
       " 'wine drunk video borderland goddess life fun life findom',\n",
       " 'wine drunk play new borderland goddess life much fun life findom',\n",
       " 'wine drunk play new music life mortal life findom',\n",
       " 'fun annoy thing meatballmissu learn two differ version borderland game year edit steam not compat onlin play',\n",
       " 'fun annoy thing meatballmissu learn two differ version borderland game year edit steam not compat onlin game',\n",
       " 'funni thing meatballmissu learn two differ version borderland game year steam not compar onlin game',\n",
       " 'fun annoy thing meatballmissu pc learn alway differ version borderland game year edit steam alway compat via onlin play',\n",
       " 'fun annoy thing meatballmissu learn two substanti differ version borderland game futur year complet edit steam even not compat countri onlin play',\n",
       " 'littl fun annoy thing meatballmissu other learn two differ version mario game year edit across steam not compat onlin purchas',\n",
       " 'borderland pleas get big hot fix whole factori reset system wipe everytim play borderland farm crash',\n",
       " 'borderland get big fix pleas reset entir factori delet system everi time play borderland build farm crash',\n",
       " 'borderland pleas get big hot fix whole factori reset system wipe whenev play borderland farm crash',\n",
       " 'borderland could pleas get big hot fix gave whole factori reset system wipe everytim play borderland farm crash',\n",
       " 'borderland pleas get big hot fix routin whole factori reset report system wipe not everytim gotta play borderland farm crash',\n",
       " 'borderland pleas big hot fix basic factori check system refresh everytim play borderland farm system crash',\n",
       " 'borderland echo cast doesnt work even though say doesnt show anyth twitch except refresh say load',\n",
       " 'borderland echo cast work though say point anyth twitch turn except updat say load',\n",
       " 'borderland echo cast work even though say',\n",
       " 'borderland echo cast doesnt work even though say whatev doesnt show anyth twitch someth except refresh say load correctli',\n",
       " 'borderland echo cast back doesnt work even though say doesnt actual show anyth twitch touch paper except not write refresh say someth load',\n",
       " 'borderland echo cast doesnt work even though say doesnt show normal twitch open except hit say load',\n",
       " 'even tho level grenad still destroy everyth path check youtu wpdgr ph lo',\n",
       " 'even though level grenad still destroy everyth get way see also youtu wpdgr ph lo',\n",
       " 'even tho level grenad still destroy everyth path check youtu wpdgr ph lo',\n",
       " 'even tho level monster still chang everyth along path check youtu wpdgr ph lo',\n",
       " 'even tho level lone grenad still destroy everyth path c check youtu wpdgr ph lo',\n",
       " 'even tho success level grenad serious hurt everyth path slug wpdgr ph lo',\n",
       " 'also bought borderland switch love seri cant wait play go',\n",
       " 'also purchas borderland switch love seri wait play along way',\n",
       " 'also bought borderland switch love seri wait play go',\n",
       " 'also bought borderland switch love seri cant wait play go',\n",
       " 'also bought borderland switch love seri cant wait play second go',\n",
       " 'also bought borderland switch love seri cant look play next',\n",
       " 'borderland play borderland xbox without crash fix pl',\n",
       " 'borderland play borderland xbox without crash',\n",
       " 'borderland play borderland xbox without crash fix pl',\n",
       " 'borderland unk play borderland tablet without crash fix pl',\n",
       " 'borderland play borderland xbox without complet crash mayb fix pl',\n",
       " 'man cannot play borderland xbox without crash fix pl',\n",
       " 'dumbass like borderland mod mf look like claptrap',\n",
       " 'dumbass like borderland mod mf look like rattlesnak',\n",
       " 'dumbass like borderland mod mf look like claptrap',\n",
       " 'dumbass like fun mod everi mf look like claptrap',\n",
       " 'dumbass like ask borderland mod time mf look like claptrap',\n",
       " 'dumbass like borderland mod mf look',\n",
       " 'realli like randi pitchford noth help hope mix',\n",
       " 'realli like randi pitchford help hope mix',\n",
       " 'realli like randi pitchford help lot',\n",
       " 'realli like randi pitchford noth great realiz mix',\n",
       " 'realli like randi pitchford noth fuck help get like hope mix',\n",
       " 'realli like randi pitchford noth help hope thing mix',\n",
       " 'warfram dead daylight overwatch minecraft uhhh idk honestli fer al primal carnag extinct would add spore well let go sentiment nostalgia not tag anyon u want feel free',\n",
       " 'warfram dead daylight overwatch minecraft uhhh idk honestli fer al primal carnag extinct would add spore not let go feel nostalgia one mark want feel free',\n",
       " 'warfram dead daylight overwatch minecraft uhhh idk honestli fer al primal carnag extinct would add spore well let sentiment nostalgia not tag anyon u want feel free',\n",
       " 'zelda dead daylight overwatch minecraft uhhh idk honestli fer al primal carnag extinct would recommend spore well ill let sentiment nostalgia not tag anyon u want feel free',\n",
       " 'warfram dead daylight overwatch minecraft uhhh idk honestli fer al primal carnag extinct would add spore well let go hope bring power sentiment inspir nostalgia not tag anyon see u want feel free visit',\n",
       " 'warfram dead daylight overwatch minecraft uhhh idk honestli fer al primal cow extinct would add spore well let go tear nostalgia not go u want els feel happi',\n",
       " 'last night borderland first playthrough complet everi level peggl unlock parti night forget wanna say huge thank commun support shown insan last night unbeliev want',\n",
       " 'last night borderland first playthrough everi level peggl unlock parti forget want thank commun support show insan last night incred want',\n",
       " 'last night first game borderland everi level peggl unlock parti night forget want say huge thank commun support gave amaz',\n",
       " 'last night borderland first playthrough complet everi level peggl unlock tomorrow night forget wanna say huge thank yo friend support shown insan last night unbeliev think',\n",
       " 'last night borderland chapter first xbox playthrough complet everi level found peggl unlock parti night mayb forget wanna say big huge thank support commun emot support shown absolut insan last night unbeliev want',\n",
       " 'last even complet game playthrough complet everi level peggl unlock tomorrow night forget wanna say huge thank commun support shown insan last night full want',\n",
       " 'went bed hour pm farm graveward almost pm went farm graveward first kill tri loot vault alreadi loot borderland ki ersix wrong game broken',\n",
       " 'went bed hour earlier pm graveward farm almost pm went back graveward farm first kill tri loot safe alreadi loot borderland ki ersix wrong game broken one',\n",
       " 'went bed hour pm farm graveward almost pm went farm graveward first kill tri lot vault alreadi root borderland ki ersix wrong game broken',\n",
       " 'went bed day night farm graveward almost pm went farm graveward new kill tri loot vault alreadi full borderland ki ersix wrong game broken',\n",
       " 'went bed hour pm farm graveward almost pm went farm near graveward decid score first kill tri not loot vault home somehow not alreadi loot borderland ki ersix wrong matter game broken',\n",
       " 'went bed hour bed pm farm graveward came still nearli pm tri farm graveward third kill tri loot vault alreadi loot borderland ki ersix realli wrong game broken',\n",
       " 'live feel like not stream forev probabl sorri borderland bit eyesof borderland twitch tv niam http co rjpcj dt',\n",
       " 'live feel like pour forev probabl sorri borderland bit eyesof borderland twitch tv niam http co rjpcj dt',\n",
       " 'live feel like not stream vehicl problem sorri borderland bit eyesof borderland',\n",
       " 'live feel like not stream forev probabl sorri borderland bit rhandlerr borderland twitch tv niam rhttpr',\n",
       " 'live feel like not stream forev probabl sorri borderland bit rhandlerr borderland twitch tv niam rhttpr',\n",
       " 'unk',\n",
       " 'italkfortnit bought borderland epicgam use creator code wait use skin',\n",
       " 'italkfortnit bought borderland epicgam creator code wait use skin',\n",
       " 'ilennit bought borderland epicgam use creator code',\n",
       " 'italkfortnit bought borderland epicgam use creator code cant wait see skin',\n",
       " 'italkfortnit bought borderland epicgam use creator code code quit wait help use skin',\n",
       " 'italkfortnit actual bought season use creator code wait skin',\n",
       " 'love u guy',\n",
       " 'love u guy',\n",
       " 'love u guy',\n",
       " 'love u bro',\n",
       " 'love u guy',\n",
       " 'unk love u guy',\n",
       " 'borderland updat delay due anti racism protest pic twitter com ddq wexjl',\n",
       " 'borderland updat delay due anti racism protest pic twitter com ddq wexjl',\n",
       " 'borderland delay due anti racism protest pic wikipedia org ddq wexjl',\n",
       " 'borderland updat delay due anti racism protest pic twitter com ddq wexjl',\n",
       " 'digit borderland updat delay due anti racism protest pic twitter com ddq wexjl',\n",
       " '',\n",
       " 'borderland concern new updat consol ps not sure play game audio visual start constantli freez break make hard continu frame rate drop drastic worri',\n",
       " 'borderland concern new updat consol ps not sure other play game audio visual start freez constantli break make difficult sink frame rate drastic worri',\n",
       " 'borderland misgiv new updat consol ps not sure otherwis game audio video constantli hover break make difficult continu sharp drop frame rate',\n",
       " 'borderland concern new updat consol ps n sure what play game experi visual start constantli freez break make hard continu frame rate drop drastic worri',\n",
       " 'borderland also concern schedul new updat consol ps not sure play game audio effect visual start constantli freez head break make hard continu frame rate drop drastic go worri',\n",
       " 'borderland concern new updat consol ps not sure game softwar visual start realli crash break hard continu frame rate drop drastic worri',\n",
       " 'borderland scienc actual realli enjoy',\n",
       " 'borderland scienc realli fun',\n",
       " 'frontier scienc realli attract',\n",
       " 'borderland scienc actual somewhat enjoy',\n",
       " 'borderland scienc actual get realli enjoy',\n",
       " 'borderland scienc actual still enjoy',\n",
       " 'borderland suck yall give money randi pitchford go borrow game friend actual good',\n",
       " 'borderland suck give yall money randi pitchford go borrow game friend actual good',\n",
       " 'borderland suck yall give money random pitchford go borrow game friend actual good',\n",
       " 'borderland suck yall give money randi pitchford go borrow game cd actual great',\n",
       " 'borderland suck yall boy give money randi pitchford go borrow game mutual friend realli actual good',\n",
       " 'borderland open yall give money randi pitchford go borrow game friend actual good',\n",
       " 'get feed dog way mac get outta dnd watch togeth wanna play borderland cramp bad today',\n",
       " 'get feed dog stuff mac make watch togeth want play borderland cramp bad today',\n",
       " 'get feed dog poppi get angri watch togeth want play border area crazi one today bad',\n",
       " 'get feed dog mac get outta town watch togeth wanna play borderland still cramp bad today',\n",
       " 'mayb get feed dog way mac get outta dnd al watch togeth wanna play footbal borderland cramp bad today',\n",
       " 'get feed dog way mac outta school also watch togeth wanna go borderland cramp bad today',\n",
       " 'genuin left gearboxoffici borderland pic twitter com x okeh tmh',\n",
       " 'realli left gearboxoffici borderland pic twitter com x okeh tmh',\n",
       " 'realli left gearboxoffici borderland pic fm x okeh tmh',\n",
       " 'genuin left rhandlerr rhandlerr pic twitter com x okeh tmh',\n",
       " 'genuin left rhandlerr rhandlerr pic twitter com x okeh tmh',\n",
       " '',\n",
       " 'holi shit borderland ass',\n",
       " 'holi shit borderland ass',\n",
       " 'holi shit borderland ass',\n",
       " 'holi shit borderland st ass',\n",
       " 'holi shit borderland ass',\n",
       " 'holi shit borderland ass',\n",
       " 'live super interest lol boss farm borderland twitch tv prismey',\n",
       " 'live super interest lol boss farm borderland twitch tv prismey',\n",
       " 'live super interest lol boss farm borderland',\n",
       " 'live super interest lol boss farm borderland twitch tv prismey',\n",
       " 'via live super interest lol boss farm borderland twitch tv prismey',\n",
       " '',\n",
       " 'unpopular opinion none game good',\n",
       " 'unpopular opinion none game good',\n",
       " 'unpopular view none game good',\n",
       " 'unpopular opinion none game good',\n",
       " 'unpopular opinion none perhap game good',\n",
       " 'unpopular opinion neither game good',\n",
       " 'burn babi',\n",
       " 'burn babi',\n",
       " 'burn aall bie',\n",
       " 'babi',\n",
       " 'unk burn babi unk',\n",
       " 'unk burn bookmark permalink unk',\n",
       " 'atleast borderland cheer',\n",
       " 'least borderland cheer',\n",
       " 'least border guard cheer',\n",
       " 'atleast borderland match',\n",
       " 'atleast borderland come cheer',\n",
       " 'atleast borderland cheer everyth',\n",
       " 'borderland trash also lowkey lit big sad easi',\n",
       " 'borderland trash also lowkey illumin big sad easi',\n",
       " 'borderland thrash also quietli lit larg garden easi',\n",
       " 'borderland trash also lowkey lit big easi',\n",
       " 'borderland trash also real lowkey lit big sad easi',\n",
       " 'borderland trash realli lowkey lit big easi',\n",
       " 'gearboxoffici sinc play borderland game friend realli tast someth discov battleborn way buy anymor look sooo good fun play',\n",
       " 'gearboxoffici play borderland game friend realli want discov battleborn way buy anymor look sooo good fun play',\n",
       " 'gearboxoffici sinc play borderland game friend realli tast someth discov battleborn way buy anymor looo good fun play',\n",
       " 'gearboxoffici sinc live borderland movi friend realli tast someth discov battleborn mean money buy anymor look sooo excit fun play',\n",
       " 'gearboxoffici sinc play borderland game friend realli natur tast someth rememb discov battleborn way buy stuff anymor simpli look sooo good enough fun play',\n",
       " 'gearboxoffici sinc play borderland game friend tast someth discov battleborn way not buy look sooo bad fun play',\n",
       " 'jackothyzin first piec fan made borderland merch excit see beauti work artist particip pic twitter com lsmr szatv',\n",
       " 'jackothyzin first fan borderland merch excit see beauti work particip artist pic twitter com lsmr szatv',\n",
       " 'jackothyzin first piec fan made borderland merch excit see beauti work artist involv pic wikipedia com lsmr atv',\n",
       " 'rhandlerr first piec fan made borderland merch excit see beauti work artist particip pic twitter com lsmr szatv',\n",
       " 'rhandlerr first piec fan made borderland merch excit see beauti work artist particip pic twitter com lsmr szatv',\n",
       " '',\n",
       " 'guess cross play took long',\n",
       " 'guess cross play took long',\n",
       " 'guess cross game took long',\n",
       " 'guess cross play took well',\n",
       " 'time guess cross play never took long',\n",
       " 'second guess cross play took long',\n",
       " 'fantast day today congratul gearboxoffici k borderland stori make feel emot best look dlc mile boot thank let join famili',\n",
       " 'today fantast day congratul gearboxoffici k borderland histori make feel emot plu best look dlc thank let join famili',\n",
       " 'congratul gearboxoffici k borderland',\n",
       " 'fantast day today congratul gearboxoffici k borderland stori make feel better awesom look dlc mile boot thank let join ur famili',\n",
       " 'fantast day today congratul presid gearboxoffici k borderland stori make one feel emot third best look dlc mile mile go boot thank let join royal famili',\n",
       " 'fantast review today congratul brother jason gearboxoffici stori way feel emot best look thing mile boot great guy let join famili',\n",
       " 'sky rocket superbadass caustic goliath borderland',\n",
       " 'sky rocket superbadass caustic goliath borderland',\n",
       " 'skye rose superbadass caucasian goliath boundari land',\n",
       " 'sky wolv superbadass caustic goliath borderland',\n",
       " 'sky rocket superbadass caustic goliath borderland',\n",
       " 'sky line superbadass goliath borderland',\n",
       " 'chri love borderland one two',\n",
       " 'chri love borderland one two',\n",
       " 'chri love edg one two',\n",
       " 'chri love borderland one two',\n",
       " 'chri almost love borderland one dozen two',\n",
       " 'chri got borderland one two',\n",
       " 'stick mario kart borderland shit compet someon els main motherfuck hate peopl play gta last us',\n",
       " 'stay mario kart borderland shit compet someon els main motherfuck hate peopl play gta last us',\n",
       " 'stick mario kart borderland shit not compet someon els main motherfuck hat peopl play gta last us',\n",
       " 'stick sky kart borderland shit compet someon blind main motherfuck hate peopl play gta last us',\n",
       " 'stick mario kart borderland shit compet someon els two main motherfuck hate watch peopl play gta last two us',\n",
       " 'stick mario kart borderland play shit compet someon els main motherfuck hate game peopl realli hate gta last us',\n",
       " 'whole year last year legit pleasur work k anz pez bro custom borderland theme playstationau oh time would love work brand suree still one favourit job poscauk pic twitter com ln snb jsn',\n",
       " 'happen year last year legitim pleasur work k anz pez bro custom borderland theme playstationau oh time would love work brand make sure still one favorit job poscauk pic twitter com ln snb jsn',\n",
       " 'last year legitim pleasur work k anz pez bro custom borderland theme playstationau oh time',\n",
       " 'whole year last year legit pleasur work rhandlerr rhandlerr custom rhandlerr theme rhandlerr oh time would love work brand suree still one favourit job rhandlerr pic twitter com ln snb jsn',\n",
       " 'n whole year last year legit pleasur work rhandlerr rhandlerr custom rhandlerr theme rhandlerr oh time would love work brand suree still one favourit job rhandlerr pic twitter com ln snb jsn',\n",
       " '',\n",
       " 'mayhem murder aplenti time twitch tv bencompet',\n",
       " 'chao murder galor time twitch tv bencompet',\n",
       " 'mayhem murder apollo time tch tv benefict',\n",
       " 'mayhem murder aplenti time twitch tv bencompet',\n",
       " 'mayhem murder aplenti time twitch tv bencompet',\n",
       " '',\n",
       " 'borderland wtf',\n",
       " 'borderland wtf',\n",
       " 'borderland wtf',\n",
       " 'borderland unk',\n",
       " 'borderland wtf',\n",
       " 'wtf',\n",
       " 'cricket worst hivemind fandom done time would love better tarzan level kingdom heart bad borderland',\n",
       " 'cricket worst hive fandom done time like tarzan level kingdom heart bad borderland',\n",
       " 'cricket worst fennel fennel done time like tarzan level kingdom heart bad borderland',\n",
       " 'cricket worst hivemind fandom said time would love count tarzan level kingdom heart strong borderland',\n",
       " 'cricket dub worst singl hivemind game fandom certainli done time would love better tarzan level kingdom heart bad borderland',\n",
       " 'cricket alreadi worst hivemind fandom done time would love better tarzan level eight heart bad mine',\n",
       " 'borderland quit fun',\n",
       " 'borderland realli fun',\n",
       " 'borderland pretti funni',\n",
       " 'borderland quit differ',\n",
       " 'borderland actual quit fun',\n",
       " 'borderland stuff quit fun',\n",
       " 'make game brutal difficult busi without team noth industri alreadi brutal underpaid vs other shame',\n",
       " 'make game brutal difficult busi without team noth industri alreadi brutal underpaid other shame',\n",
       " 'make game difficult busi noth without team industri alreadi underpay other',\n",
       " 'make game brutal difficult busi without team noth industri alreadi brutal underpaid vs other shame',\n",
       " 'make game brutal difficult famili busi without team done noth industri alreadi brutal badli underpaid littl vs other shame',\n",
       " 'make game particularli difficult busi without origin noth industri seem alreadi brutal underpaid around nintendo shame',\n",
       " 'sweet',\n",
       " 'sweet',\n",
       " 'sweat',\n",
       " 'sweet',\n",
       " 'sweet',\n",
       " '',\n",
       " 'borderland',\n",
       " 'borderland',\n",
       " 'borderland',\n",
       " 'borderland',\n",
       " 'someon borderland',\n",
       " ...]"
      ]
     },
     "execution_count": 26,
     "metadata": {},
     "output_type": "execute_result"
    }
   ],
   "source": [
    "corpus"
   ]
  },
  {
   "cell_type": "code",
   "execution_count": 27,
   "id": "19e3bc49",
   "metadata": {},
   "outputs": [],
   "source": [
    "from sklearn.feature_extraction.text import CountVectorizer\n",
    "cv = CountVectorizer(max_features = 1420)"
   ]
  },
  {
   "cell_type": "code",
   "execution_count": 28,
   "id": "77f53ccd",
   "metadata": {},
   "outputs": [],
   "source": [
    "X = cv.fit_transform(corpus).toarray()\n",
    "Y = dataset.iloc[:,-2].values"
   ]
  },
  {
   "cell_type": "code",
   "execution_count": 29,
   "id": "cff6178c",
   "metadata": {},
   "outputs": [
    {
     "name": "stdout",
     "output_type": "stream",
     "text": [
      "[[0 0 0 ... 0 0 0]\n",
      " [0 0 0 ... 0 0 0]\n",
      " [0 0 0 ... 0 0 0]\n",
      " ...\n",
      " [0 0 0 ... 0 0 0]\n",
      " [0 0 0 ... 0 0 0]\n",
      " [0 0 0 ... 0 0 0]]\n"
     ]
    }
   ],
   "source": [
    "print(X)"
   ]
  },
  {
   "cell_type": "code",
   "execution_count": 30,
   "id": "76b8b9a6",
   "metadata": {},
   "outputs": [
    {
     "name": "stdout",
     "output_type": "stream",
     "text": [
      "[3 3 3 ... 3 3 3]\n"
     ]
    }
   ],
   "source": [
    "print(Y)"
   ]
  },
  {
   "cell_type": "code",
   "execution_count": 31,
   "id": "1b699b4d",
   "metadata": {},
   "outputs": [],
   "source": [
    "from sklearn.model_selection import train_test_split\n",
    "X_train, X_test, Y_train, Y_test = train_test_split(X,Y,test_size = 0.2, random_state = 42)"
   ]
  },
  {
   "cell_type": "code",
   "execution_count": 32,
   "id": "d184408f",
   "metadata": {},
   "outputs": [
    {
     "data": {
      "text/plain": [
       "((74681, 1420), (59744, 1420))"
      ]
     },
     "execution_count": 32,
     "metadata": {},
     "output_type": "execute_result"
    }
   ],
   "source": [
    "X.shape, X_train.shape"
   ]
  },
  {
   "cell_type": "markdown",
   "id": "846d8fd1",
   "metadata": {},
   "source": [
    "# Model Training"
   ]
  },
  {
   "cell_type": "code",
   "execution_count": 33,
   "id": "5dc2ea10",
   "metadata": {},
   "outputs": [],
   "source": [
    "from sklearn.naive_bayes import GaussianNB\n",
    "from sklearn.linear_model import LogisticRegression\n",
    "from sklearn.ensemble import RandomForestClassifier\n",
    "from sklearn.tree import DecisionTreeClassifier\n",
    "from sklearn.svm import SVC"
   ]
  },
  {
   "cell_type": "code",
   "execution_count": 34,
   "id": "dee217f7",
   "metadata": {},
   "outputs": [],
   "source": [
    "modelNB = GaussianNB()\n",
    "modelLR = LogisticRegression()\n",
    "modelRF = RandomForestClassifier()\n",
    "modelDT = DecisionTreeClassifier()\n",
    "modelSVM = SVC()"
   ]
  },
  {
   "cell_type": "code",
   "execution_count": 35,
   "id": "df85b18e",
   "metadata": {},
   "outputs": [
    {
     "data": {
      "text/html": [
       "<style>#sk-container-id-1 {color: black;background-color: white;}#sk-container-id-1 pre{padding: 0;}#sk-container-id-1 div.sk-toggleable {background-color: white;}#sk-container-id-1 label.sk-toggleable__label {cursor: pointer;display: block;width: 100%;margin-bottom: 0;padding: 0.3em;box-sizing: border-box;text-align: center;}#sk-container-id-1 label.sk-toggleable__label-arrow:before {content: \"▸\";float: left;margin-right: 0.25em;color: #696969;}#sk-container-id-1 label.sk-toggleable__label-arrow:hover:before {color: black;}#sk-container-id-1 div.sk-estimator:hover label.sk-toggleable__label-arrow:before {color: black;}#sk-container-id-1 div.sk-toggleable__content {max-height: 0;max-width: 0;overflow: hidden;text-align: left;background-color: #f0f8ff;}#sk-container-id-1 div.sk-toggleable__content pre {margin: 0.2em;color: black;border-radius: 0.25em;background-color: #f0f8ff;}#sk-container-id-1 input.sk-toggleable__control:checked~div.sk-toggleable__content {max-height: 200px;max-width: 100%;overflow: auto;}#sk-container-id-1 input.sk-toggleable__control:checked~label.sk-toggleable__label-arrow:before {content: \"▾\";}#sk-container-id-1 div.sk-estimator input.sk-toggleable__control:checked~label.sk-toggleable__label {background-color: #d4ebff;}#sk-container-id-1 div.sk-label input.sk-toggleable__control:checked~label.sk-toggleable__label {background-color: #d4ebff;}#sk-container-id-1 input.sk-hidden--visually {border: 0;clip: rect(1px 1px 1px 1px);clip: rect(1px, 1px, 1px, 1px);height: 1px;margin: -1px;overflow: hidden;padding: 0;position: absolute;width: 1px;}#sk-container-id-1 div.sk-estimator {font-family: monospace;background-color: #f0f8ff;border: 1px dotted black;border-radius: 0.25em;box-sizing: border-box;margin-bottom: 0.5em;}#sk-container-id-1 div.sk-estimator:hover {background-color: #d4ebff;}#sk-container-id-1 div.sk-parallel-item::after {content: \"\";width: 100%;border-bottom: 1px solid gray;flex-grow: 1;}#sk-container-id-1 div.sk-label:hover label.sk-toggleable__label {background-color: #d4ebff;}#sk-container-id-1 div.sk-serial::before {content: \"\";position: absolute;border-left: 1px solid gray;box-sizing: border-box;top: 0;bottom: 0;left: 50%;z-index: 0;}#sk-container-id-1 div.sk-serial {display: flex;flex-direction: column;align-items: center;background-color: white;padding-right: 0.2em;padding-left: 0.2em;position: relative;}#sk-container-id-1 div.sk-item {position: relative;z-index: 1;}#sk-container-id-1 div.sk-parallel {display: flex;align-items: stretch;justify-content: center;background-color: white;position: relative;}#sk-container-id-1 div.sk-item::before, #sk-container-id-1 div.sk-parallel-item::before {content: \"\";position: absolute;border-left: 1px solid gray;box-sizing: border-box;top: 0;bottom: 0;left: 50%;z-index: -1;}#sk-container-id-1 div.sk-parallel-item {display: flex;flex-direction: column;z-index: 1;position: relative;background-color: white;}#sk-container-id-1 div.sk-parallel-item:first-child::after {align-self: flex-end;width: 50%;}#sk-container-id-1 div.sk-parallel-item:last-child::after {align-self: flex-start;width: 50%;}#sk-container-id-1 div.sk-parallel-item:only-child::after {width: 0;}#sk-container-id-1 div.sk-dashed-wrapped {border: 1px dashed gray;margin: 0 0.4em 0.5em 0.4em;box-sizing: border-box;padding-bottom: 0.4em;background-color: white;}#sk-container-id-1 div.sk-label label {font-family: monospace;font-weight: bold;display: inline-block;line-height: 1.2em;}#sk-container-id-1 div.sk-label-container {text-align: center;}#sk-container-id-1 div.sk-container {/* jupyter's `normalize.less` sets `[hidden] { display: none; }` but bootstrap.min.css set `[hidden] { display: none !important; }` so we also need the `!important` here to be able to override the default hidden behavior on the sphinx rendered scikit-learn.org. See: https://github.com/scikit-learn/scikit-learn/issues/21755 */display: inline-block !important;position: relative;}#sk-container-id-1 div.sk-text-repr-fallback {display: none;}</style><div id=\"sk-container-id-1\" class=\"sk-top-container\"><div class=\"sk-text-repr-fallback\"><pre>GaussianNB()</pre><b>In a Jupyter environment, please rerun this cell to show the HTML representation or trust the notebook. <br />On GitHub, the HTML representation is unable to render, please try loading this page with nbviewer.org.</b></div><div class=\"sk-container\" hidden><div class=\"sk-item\"><div class=\"sk-estimator sk-toggleable\"><input class=\"sk-toggleable__control sk-hidden--visually\" id=\"sk-estimator-id-1\" type=\"checkbox\" checked><label for=\"sk-estimator-id-1\" class=\"sk-toggleable__label sk-toggleable__label-arrow\">GaussianNB</label><div class=\"sk-toggleable__content\"><pre>GaussianNB()</pre></div></div></div></div></div>"
      ],
      "text/plain": [
       "GaussianNB()"
      ]
     },
     "execution_count": 35,
     "metadata": {},
     "output_type": "execute_result"
    }
   ],
   "source": [
    "modelNB.fit(X_train, Y_train)"
   ]
  },
  {
   "cell_type": "code",
   "execution_count": 36,
   "id": "82c25817",
   "metadata": {},
   "outputs": [
    {
     "name": "stderr",
     "output_type": "stream",
     "text": [
      "c:\\users\\hp\\appdata\\local\\programs\\python\\python39\\lib\\site-packages\\sklearn\\linear_model\\_logistic.py:458: ConvergenceWarning: lbfgs failed to converge (status=1):\n",
      "STOP: TOTAL NO. of ITERATIONS REACHED LIMIT.\n",
      "\n",
      "Increase the number of iterations (max_iter) or scale the data as shown in:\n",
      "    https://scikit-learn.org/stable/modules/preprocessing.html\n",
      "Please also refer to the documentation for alternative solver options:\n",
      "    https://scikit-learn.org/stable/modules/linear_model.html#logistic-regression\n",
      "  n_iter_i = _check_optimize_result(\n"
     ]
    },
    {
     "data": {
      "text/html": [
       "<style>#sk-container-id-2 {color: black;background-color: white;}#sk-container-id-2 pre{padding: 0;}#sk-container-id-2 div.sk-toggleable {background-color: white;}#sk-container-id-2 label.sk-toggleable__label {cursor: pointer;display: block;width: 100%;margin-bottom: 0;padding: 0.3em;box-sizing: border-box;text-align: center;}#sk-container-id-2 label.sk-toggleable__label-arrow:before {content: \"▸\";float: left;margin-right: 0.25em;color: #696969;}#sk-container-id-2 label.sk-toggleable__label-arrow:hover:before {color: black;}#sk-container-id-2 div.sk-estimator:hover label.sk-toggleable__label-arrow:before {color: black;}#sk-container-id-2 div.sk-toggleable__content {max-height: 0;max-width: 0;overflow: hidden;text-align: left;background-color: #f0f8ff;}#sk-container-id-2 div.sk-toggleable__content pre {margin: 0.2em;color: black;border-radius: 0.25em;background-color: #f0f8ff;}#sk-container-id-2 input.sk-toggleable__control:checked~div.sk-toggleable__content {max-height: 200px;max-width: 100%;overflow: auto;}#sk-container-id-2 input.sk-toggleable__control:checked~label.sk-toggleable__label-arrow:before {content: \"▾\";}#sk-container-id-2 div.sk-estimator input.sk-toggleable__control:checked~label.sk-toggleable__label {background-color: #d4ebff;}#sk-container-id-2 div.sk-label input.sk-toggleable__control:checked~label.sk-toggleable__label {background-color: #d4ebff;}#sk-container-id-2 input.sk-hidden--visually {border: 0;clip: rect(1px 1px 1px 1px);clip: rect(1px, 1px, 1px, 1px);height: 1px;margin: -1px;overflow: hidden;padding: 0;position: absolute;width: 1px;}#sk-container-id-2 div.sk-estimator {font-family: monospace;background-color: #f0f8ff;border: 1px dotted black;border-radius: 0.25em;box-sizing: border-box;margin-bottom: 0.5em;}#sk-container-id-2 div.sk-estimator:hover {background-color: #d4ebff;}#sk-container-id-2 div.sk-parallel-item::after {content: \"\";width: 100%;border-bottom: 1px solid gray;flex-grow: 1;}#sk-container-id-2 div.sk-label:hover label.sk-toggleable__label {background-color: #d4ebff;}#sk-container-id-2 div.sk-serial::before {content: \"\";position: absolute;border-left: 1px solid gray;box-sizing: border-box;top: 0;bottom: 0;left: 50%;z-index: 0;}#sk-container-id-2 div.sk-serial {display: flex;flex-direction: column;align-items: center;background-color: white;padding-right: 0.2em;padding-left: 0.2em;position: relative;}#sk-container-id-2 div.sk-item {position: relative;z-index: 1;}#sk-container-id-2 div.sk-parallel {display: flex;align-items: stretch;justify-content: center;background-color: white;position: relative;}#sk-container-id-2 div.sk-item::before, #sk-container-id-2 div.sk-parallel-item::before {content: \"\";position: absolute;border-left: 1px solid gray;box-sizing: border-box;top: 0;bottom: 0;left: 50%;z-index: -1;}#sk-container-id-2 div.sk-parallel-item {display: flex;flex-direction: column;z-index: 1;position: relative;background-color: white;}#sk-container-id-2 div.sk-parallel-item:first-child::after {align-self: flex-end;width: 50%;}#sk-container-id-2 div.sk-parallel-item:last-child::after {align-self: flex-start;width: 50%;}#sk-container-id-2 div.sk-parallel-item:only-child::after {width: 0;}#sk-container-id-2 div.sk-dashed-wrapped {border: 1px dashed gray;margin: 0 0.4em 0.5em 0.4em;box-sizing: border-box;padding-bottom: 0.4em;background-color: white;}#sk-container-id-2 div.sk-label label {font-family: monospace;font-weight: bold;display: inline-block;line-height: 1.2em;}#sk-container-id-2 div.sk-label-container {text-align: center;}#sk-container-id-2 div.sk-container {/* jupyter's `normalize.less` sets `[hidden] { display: none; }` but bootstrap.min.css set `[hidden] { display: none !important; }` so we also need the `!important` here to be able to override the default hidden behavior on the sphinx rendered scikit-learn.org. See: https://github.com/scikit-learn/scikit-learn/issues/21755 */display: inline-block !important;position: relative;}#sk-container-id-2 div.sk-text-repr-fallback {display: none;}</style><div id=\"sk-container-id-2\" class=\"sk-top-container\"><div class=\"sk-text-repr-fallback\"><pre>LogisticRegression()</pre><b>In a Jupyter environment, please rerun this cell to show the HTML representation or trust the notebook. <br />On GitHub, the HTML representation is unable to render, please try loading this page with nbviewer.org.</b></div><div class=\"sk-container\" hidden><div class=\"sk-item\"><div class=\"sk-estimator sk-toggleable\"><input class=\"sk-toggleable__control sk-hidden--visually\" id=\"sk-estimator-id-2\" type=\"checkbox\" checked><label for=\"sk-estimator-id-2\" class=\"sk-toggleable__label sk-toggleable__label-arrow\">LogisticRegression</label><div class=\"sk-toggleable__content\"><pre>LogisticRegression()</pre></div></div></div></div></div>"
      ],
      "text/plain": [
       "LogisticRegression()"
      ]
     },
     "execution_count": 36,
     "metadata": {},
     "output_type": "execute_result"
    }
   ],
   "source": [
    "modelLR.fit(X_train, Y_train)"
   ]
  },
  {
   "cell_type": "code",
   "execution_count": 37,
   "id": "cba685bf",
   "metadata": {},
   "outputs": [
    {
     "data": {
      "text/html": [
       "<style>#sk-container-id-3 {color: black;background-color: white;}#sk-container-id-3 pre{padding: 0;}#sk-container-id-3 div.sk-toggleable {background-color: white;}#sk-container-id-3 label.sk-toggleable__label {cursor: pointer;display: block;width: 100%;margin-bottom: 0;padding: 0.3em;box-sizing: border-box;text-align: center;}#sk-container-id-3 label.sk-toggleable__label-arrow:before {content: \"▸\";float: left;margin-right: 0.25em;color: #696969;}#sk-container-id-3 label.sk-toggleable__label-arrow:hover:before {color: black;}#sk-container-id-3 div.sk-estimator:hover label.sk-toggleable__label-arrow:before {color: black;}#sk-container-id-3 div.sk-toggleable__content {max-height: 0;max-width: 0;overflow: hidden;text-align: left;background-color: #f0f8ff;}#sk-container-id-3 div.sk-toggleable__content pre {margin: 0.2em;color: black;border-radius: 0.25em;background-color: #f0f8ff;}#sk-container-id-3 input.sk-toggleable__control:checked~div.sk-toggleable__content {max-height: 200px;max-width: 100%;overflow: auto;}#sk-container-id-3 input.sk-toggleable__control:checked~label.sk-toggleable__label-arrow:before {content: \"▾\";}#sk-container-id-3 div.sk-estimator input.sk-toggleable__control:checked~label.sk-toggleable__label {background-color: #d4ebff;}#sk-container-id-3 div.sk-label input.sk-toggleable__control:checked~label.sk-toggleable__label {background-color: #d4ebff;}#sk-container-id-3 input.sk-hidden--visually {border: 0;clip: rect(1px 1px 1px 1px);clip: rect(1px, 1px, 1px, 1px);height: 1px;margin: -1px;overflow: hidden;padding: 0;position: absolute;width: 1px;}#sk-container-id-3 div.sk-estimator {font-family: monospace;background-color: #f0f8ff;border: 1px dotted black;border-radius: 0.25em;box-sizing: border-box;margin-bottom: 0.5em;}#sk-container-id-3 div.sk-estimator:hover {background-color: #d4ebff;}#sk-container-id-3 div.sk-parallel-item::after {content: \"\";width: 100%;border-bottom: 1px solid gray;flex-grow: 1;}#sk-container-id-3 div.sk-label:hover label.sk-toggleable__label {background-color: #d4ebff;}#sk-container-id-3 div.sk-serial::before {content: \"\";position: absolute;border-left: 1px solid gray;box-sizing: border-box;top: 0;bottom: 0;left: 50%;z-index: 0;}#sk-container-id-3 div.sk-serial {display: flex;flex-direction: column;align-items: center;background-color: white;padding-right: 0.2em;padding-left: 0.2em;position: relative;}#sk-container-id-3 div.sk-item {position: relative;z-index: 1;}#sk-container-id-3 div.sk-parallel {display: flex;align-items: stretch;justify-content: center;background-color: white;position: relative;}#sk-container-id-3 div.sk-item::before, #sk-container-id-3 div.sk-parallel-item::before {content: \"\";position: absolute;border-left: 1px solid gray;box-sizing: border-box;top: 0;bottom: 0;left: 50%;z-index: -1;}#sk-container-id-3 div.sk-parallel-item {display: flex;flex-direction: column;z-index: 1;position: relative;background-color: white;}#sk-container-id-3 div.sk-parallel-item:first-child::after {align-self: flex-end;width: 50%;}#sk-container-id-3 div.sk-parallel-item:last-child::after {align-self: flex-start;width: 50%;}#sk-container-id-3 div.sk-parallel-item:only-child::after {width: 0;}#sk-container-id-3 div.sk-dashed-wrapped {border: 1px dashed gray;margin: 0 0.4em 0.5em 0.4em;box-sizing: border-box;padding-bottom: 0.4em;background-color: white;}#sk-container-id-3 div.sk-label label {font-family: monospace;font-weight: bold;display: inline-block;line-height: 1.2em;}#sk-container-id-3 div.sk-label-container {text-align: center;}#sk-container-id-3 div.sk-container {/* jupyter's `normalize.less` sets `[hidden] { display: none; }` but bootstrap.min.css set `[hidden] { display: none !important; }` so we also need the `!important` here to be able to override the default hidden behavior on the sphinx rendered scikit-learn.org. See: https://github.com/scikit-learn/scikit-learn/issues/21755 */display: inline-block !important;position: relative;}#sk-container-id-3 div.sk-text-repr-fallback {display: none;}</style><div id=\"sk-container-id-3\" class=\"sk-top-container\"><div class=\"sk-text-repr-fallback\"><pre>RandomForestClassifier()</pre><b>In a Jupyter environment, please rerun this cell to show the HTML representation or trust the notebook. <br />On GitHub, the HTML representation is unable to render, please try loading this page with nbviewer.org.</b></div><div class=\"sk-container\" hidden><div class=\"sk-item\"><div class=\"sk-estimator sk-toggleable\"><input class=\"sk-toggleable__control sk-hidden--visually\" id=\"sk-estimator-id-3\" type=\"checkbox\" checked><label for=\"sk-estimator-id-3\" class=\"sk-toggleable__label sk-toggleable__label-arrow\">RandomForestClassifier</label><div class=\"sk-toggleable__content\"><pre>RandomForestClassifier()</pre></div></div></div></div></div>"
      ],
      "text/plain": [
       "RandomForestClassifier()"
      ]
     },
     "execution_count": 37,
     "metadata": {},
     "output_type": "execute_result"
    }
   ],
   "source": [
    "modelRF.fit(X_train, Y_train)"
   ]
  },
  {
   "cell_type": "code",
   "execution_count": 38,
   "id": "2b789384",
   "metadata": {},
   "outputs": [
    {
     "data": {
      "text/html": [
       "<style>#sk-container-id-4 {color: black;background-color: white;}#sk-container-id-4 pre{padding: 0;}#sk-container-id-4 div.sk-toggleable {background-color: white;}#sk-container-id-4 label.sk-toggleable__label {cursor: pointer;display: block;width: 100%;margin-bottom: 0;padding: 0.3em;box-sizing: border-box;text-align: center;}#sk-container-id-4 label.sk-toggleable__label-arrow:before {content: \"▸\";float: left;margin-right: 0.25em;color: #696969;}#sk-container-id-4 label.sk-toggleable__label-arrow:hover:before {color: black;}#sk-container-id-4 div.sk-estimator:hover label.sk-toggleable__label-arrow:before {color: black;}#sk-container-id-4 div.sk-toggleable__content {max-height: 0;max-width: 0;overflow: hidden;text-align: left;background-color: #f0f8ff;}#sk-container-id-4 div.sk-toggleable__content pre {margin: 0.2em;color: black;border-radius: 0.25em;background-color: #f0f8ff;}#sk-container-id-4 input.sk-toggleable__control:checked~div.sk-toggleable__content {max-height: 200px;max-width: 100%;overflow: auto;}#sk-container-id-4 input.sk-toggleable__control:checked~label.sk-toggleable__label-arrow:before {content: \"▾\";}#sk-container-id-4 div.sk-estimator input.sk-toggleable__control:checked~label.sk-toggleable__label {background-color: #d4ebff;}#sk-container-id-4 div.sk-label input.sk-toggleable__control:checked~label.sk-toggleable__label {background-color: #d4ebff;}#sk-container-id-4 input.sk-hidden--visually {border: 0;clip: rect(1px 1px 1px 1px);clip: rect(1px, 1px, 1px, 1px);height: 1px;margin: -1px;overflow: hidden;padding: 0;position: absolute;width: 1px;}#sk-container-id-4 div.sk-estimator {font-family: monospace;background-color: #f0f8ff;border: 1px dotted black;border-radius: 0.25em;box-sizing: border-box;margin-bottom: 0.5em;}#sk-container-id-4 div.sk-estimator:hover {background-color: #d4ebff;}#sk-container-id-4 div.sk-parallel-item::after {content: \"\";width: 100%;border-bottom: 1px solid gray;flex-grow: 1;}#sk-container-id-4 div.sk-label:hover label.sk-toggleable__label {background-color: #d4ebff;}#sk-container-id-4 div.sk-serial::before {content: \"\";position: absolute;border-left: 1px solid gray;box-sizing: border-box;top: 0;bottom: 0;left: 50%;z-index: 0;}#sk-container-id-4 div.sk-serial {display: flex;flex-direction: column;align-items: center;background-color: white;padding-right: 0.2em;padding-left: 0.2em;position: relative;}#sk-container-id-4 div.sk-item {position: relative;z-index: 1;}#sk-container-id-4 div.sk-parallel {display: flex;align-items: stretch;justify-content: center;background-color: white;position: relative;}#sk-container-id-4 div.sk-item::before, #sk-container-id-4 div.sk-parallel-item::before {content: \"\";position: absolute;border-left: 1px solid gray;box-sizing: border-box;top: 0;bottom: 0;left: 50%;z-index: -1;}#sk-container-id-4 div.sk-parallel-item {display: flex;flex-direction: column;z-index: 1;position: relative;background-color: white;}#sk-container-id-4 div.sk-parallel-item:first-child::after {align-self: flex-end;width: 50%;}#sk-container-id-4 div.sk-parallel-item:last-child::after {align-self: flex-start;width: 50%;}#sk-container-id-4 div.sk-parallel-item:only-child::after {width: 0;}#sk-container-id-4 div.sk-dashed-wrapped {border: 1px dashed gray;margin: 0 0.4em 0.5em 0.4em;box-sizing: border-box;padding-bottom: 0.4em;background-color: white;}#sk-container-id-4 div.sk-label label {font-family: monospace;font-weight: bold;display: inline-block;line-height: 1.2em;}#sk-container-id-4 div.sk-label-container {text-align: center;}#sk-container-id-4 div.sk-container {/* jupyter's `normalize.less` sets `[hidden] { display: none; }` but bootstrap.min.css set `[hidden] { display: none !important; }` so we also need the `!important` here to be able to override the default hidden behavior on the sphinx rendered scikit-learn.org. See: https://github.com/scikit-learn/scikit-learn/issues/21755 */display: inline-block !important;position: relative;}#sk-container-id-4 div.sk-text-repr-fallback {display: none;}</style><div id=\"sk-container-id-4\" class=\"sk-top-container\"><div class=\"sk-text-repr-fallback\"><pre>DecisionTreeClassifier()</pre><b>In a Jupyter environment, please rerun this cell to show the HTML representation or trust the notebook. <br />On GitHub, the HTML representation is unable to render, please try loading this page with nbviewer.org.</b></div><div class=\"sk-container\" hidden><div class=\"sk-item\"><div class=\"sk-estimator sk-toggleable\"><input class=\"sk-toggleable__control sk-hidden--visually\" id=\"sk-estimator-id-4\" type=\"checkbox\" checked><label for=\"sk-estimator-id-4\" class=\"sk-toggleable__label sk-toggleable__label-arrow\">DecisionTreeClassifier</label><div class=\"sk-toggleable__content\"><pre>DecisionTreeClassifier()</pre></div></div></div></div></div>"
      ],
      "text/plain": [
       "DecisionTreeClassifier()"
      ]
     },
     "execution_count": 38,
     "metadata": {},
     "output_type": "execute_result"
    }
   ],
   "source": [
    "modelDT.fit(X_train, Y_train)"
   ]
  },
  {
   "cell_type": "markdown",
   "id": "bed6644d",
   "metadata": {},
   "source": [
    "modelSVM.fit(X_train, Y_train)"
   ]
  },
  {
   "cell_type": "code",
   "execution_count": 39,
   "id": "56b4a3cf",
   "metadata": {},
   "outputs": [],
   "source": [
    "from sklearn.metrics import accuracy_score"
   ]
  },
  {
   "cell_type": "code",
   "execution_count": 40,
   "id": "4611d649",
   "metadata": {},
   "outputs": [],
   "source": [
    "predictionNB = modelNB.predict(X_test)"
   ]
  },
  {
   "cell_type": "code",
   "execution_count": 41,
   "id": "654d9731",
   "metadata": {},
   "outputs": [],
   "source": [
    "predictionLR = modelLR.predict(X_test)"
   ]
  },
  {
   "cell_type": "code",
   "execution_count": 42,
   "id": "e5018590",
   "metadata": {},
   "outputs": [],
   "source": [
    "predictionRF = modelRF.predict(X_test)"
   ]
  },
  {
   "cell_type": "code",
   "execution_count": 43,
   "id": "8efadd2d",
   "metadata": {},
   "outputs": [],
   "source": [
    "predictionDT = modelDT.predict(X_test)"
   ]
  },
  {
   "cell_type": "markdown",
   "id": "f1152714",
   "metadata": {},
   "source": [
    "predictionSVM = modelSVM.predict(X_test)"
   ]
  },
  {
   "cell_type": "code",
   "execution_count": 44,
   "id": "de0326df",
   "metadata": {},
   "outputs": [],
   "source": [
    "scoreNB = accuracy_score(predictionNB, Y_test)"
   ]
  },
  {
   "cell_type": "code",
   "execution_count": 45,
   "id": "fe6bb801",
   "metadata": {},
   "outputs": [],
   "source": [
    "scoreLR = accuracy_score(predictionLR, Y_test)"
   ]
  },
  {
   "cell_type": "code",
   "execution_count": 46,
   "id": "f3c1ac52",
   "metadata": {},
   "outputs": [],
   "source": [
    "scoreRF = accuracy_score(predictionRF, Y_test)"
   ]
  },
  {
   "cell_type": "code",
   "execution_count": 47,
   "id": "a3a6c7ce",
   "metadata": {},
   "outputs": [],
   "source": [
    "scoreDT = accuracy_score(predictionDT, Y_test)"
   ]
  },
  {
   "cell_type": "markdown",
   "id": "07525930",
   "metadata": {},
   "source": [
    "scoreSVM = accuracy_score(predictionSVM, Y_test)"
   ]
  },
  {
   "cell_type": "code",
   "execution_count": 50,
   "id": "4244e403",
   "metadata": {},
   "outputs": [
    {
     "data": {
      "text/plain": [
       "0.42739505924884513"
      ]
     },
     "execution_count": 50,
     "metadata": {},
     "output_type": "execute_result"
    }
   ],
   "source": [
    "scoreNB"
   ]
  },
  {
   "cell_type": "code",
   "execution_count": 51,
   "id": "66796d24",
   "metadata": {},
   "outputs": [
    {
     "data": {
      "text/plain": [
       "0.6013925152306353"
      ]
     },
     "execution_count": 51,
     "metadata": {},
     "output_type": "execute_result"
    }
   ],
   "source": [
    "scoreLR"
   ]
  },
  {
   "cell_type": "code",
   "execution_count": 52,
   "id": "001363bc",
   "metadata": {},
   "outputs": [
    {
     "data": {
      "text/plain": [
       "0.8728660373568989"
      ]
     },
     "execution_count": 52,
     "metadata": {},
     "output_type": "execute_result"
    }
   ],
   "source": [
    "scoreRF"
   ]
  },
  {
   "cell_type": "code",
   "execution_count": 53,
   "id": "94934745",
   "metadata": {},
   "outputs": [
    {
     "data": {
      "text/plain": [
       "0.7941353685479012"
      ]
     },
     "execution_count": 53,
     "metadata": {},
     "output_type": "execute_result"
    }
   ],
   "source": [
    "scoreDT"
   ]
  },
  {
   "cell_type": "markdown",
   "id": "75092dd9",
   "metadata": {},
   "source": [
    "# Prediction"
   ]
  },
  {
   "cell_type": "code",
   "execution_count": 54,
   "id": "7a3b0542",
   "metadata": {},
   "outputs": [
    {
     "name": "stdout",
     "output_type": "stream",
     "text": [
      "Enter the text : open your wings and set the sky ablaze\n",
      "[2]\n",
      "Neutral\n"
     ]
    }
   ],
   "source": [
    "user = input(\"Enter the text : \")\n",
    "data = cv.transform([user]).toarray()\n",
    "output = modelRF.predict(data)\n",
    "print(output)\n",
    "if output==0:\n",
    "    print(\"Irrelevant\")\n",
    "elif output==1:\n",
    "    print(\"Negative\")\n",
    "elif output==2:\n",
    "    print(\"Neutral\")\n",
    "elif output==3:\n",
    "    print(\"Positive\")"
   ]
  },
  {
   "cell_type": "code",
   "execution_count": null,
   "id": "8ea8ac1f",
   "metadata": {},
   "outputs": [],
   "source": []
  }
 ],
 "metadata": {
  "kernelspec": {
   "display_name": "Python 3 (ipykernel)",
   "language": "python",
   "name": "python3"
  },
  "language_info": {
   "codemirror_mode": {
    "name": "ipython",
    "version": 3
   },
   "file_extension": ".py",
   "mimetype": "text/x-python",
   "name": "python",
   "nbconvert_exporter": "python",
   "pygments_lexer": "ipython3",
   "version": "3.9.5"
  }
 },
 "nbformat": 4,
 "nbformat_minor": 5
}
